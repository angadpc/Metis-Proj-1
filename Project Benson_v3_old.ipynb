{
 "cells": [
  {
   "cell_type": "markdown",
   "metadata": {},
   "source": [
    "# Project 1 : Title\n",
    "\n",
    "Description of the project"
   ]
  },
  {
   "cell_type": "code",
   "execution_count": 4,
   "metadata": {},
   "outputs": [],
   "source": [
    "from __future__ import print_function, division"
   ]
  },
  {
   "cell_type": "code",
   "execution_count": 5,
   "metadata": {},
   "outputs": [],
   "source": [
    "import pandas as pd\n",
    "import numpy as np\n",
    "import matplotlib.pyplot as plt\n",
    "\n",
    "%matplotlib inline"
   ]
  },
  {
   "cell_type": "code",
   "execution_count": 6,
   "metadata": {},
   "outputs": [],
   "source": [
    "import datetime"
   ]
  },
  {
   "cell_type": "markdown",
   "metadata": {},
   "source": [
    "#### Data Download\n",
    "\n",
    "Download and read 3 months of MTA turnstile data files.\n"
   ]
  },
  {
   "cell_type": "code",
   "execution_count": 7,
   "metadata": {},
   "outputs": [],
   "source": [
    "# Source: http://web.mta.info/developers/turnstile.html\n",
    "def get_data(week_nums):\n",
    "    url = \"data/turnstile_{}.txt\"\n",
    "    dfs = []\n",
    "    for week_num in week_nums:\n",
    "        file_url = url.format(week_num)\n",
    "        dfs.append(pd.read_csv(file_url))\n",
    "    return pd.concat(dfs)\n",
    "        \n",
    "week_nums = [180505,\n",
    "180512,\n",
    "180519,\n",
    "180526,\n",
    "180602,\n",
    "180609,\n",
    "180616,\n",
    "180623,\n",
    "180630,\n",
    "180707,\n",
    "180714,\n",
    "180721,\n",
    "180728,\n",
    "180804,\n",
    "180811,\n",
    "180818,\n",
    "180825]\n",
    "turnstiles_df = get_data(week_nums)"
   ]
  },
  {
   "cell_type": "code",
   "execution_count": 32,
   "metadata": {},
   "outputs": [
    {
     "data": {
      "text/html": [
       "<div>\n",
       "<style scoped>\n",
       "    .dataframe tbody tr th:only-of-type {\n",
       "        vertical-align: middle;\n",
       "    }\n",
       "\n",
       "    .dataframe tbody tr th {\n",
       "        vertical-align: top;\n",
       "    }\n",
       "\n",
       "    .dataframe thead th {\n",
       "        text-align: right;\n",
       "    }\n",
       "</style>\n",
       "<table border=\"1\" class=\"dataframe\">\n",
       "  <thead>\n",
       "    <tr style=\"text-align: right;\">\n",
       "      <th></th>\n",
       "      <th>C/A</th>\n",
       "      <th>UNIT</th>\n",
       "      <th>SCP</th>\n",
       "      <th>STATION</th>\n",
       "      <th>LINENAME</th>\n",
       "      <th>DIVISION</th>\n",
       "      <th>DATE</th>\n",
       "      <th>TIME</th>\n",
       "      <th>DESC</th>\n",
       "      <th>ENTRIES</th>\n",
       "      <th>EXITS</th>\n",
       "      <th>DATE_TIME</th>\n",
       "      <th>FOUR_HOURS_INTERVAL</th>\n",
       "      <th>PREV_DATE_TIME</th>\n",
       "      <th>PREV_ENTRIES</th>\n",
       "      <th>PREV_EXITS</th>\n",
       "    </tr>\n",
       "  </thead>\n",
       "  <tbody>\n",
       "    <tr>\n",
       "      <th>0</th>\n",
       "      <td>A002</td>\n",
       "      <td>R051</td>\n",
       "      <td>02-00-00</td>\n",
       "      <td>59 ST</td>\n",
       "      <td>NQR456W</td>\n",
       "      <td>BMT</td>\n",
       "      <td>04/28/2018</td>\n",
       "      <td>00:00:00</td>\n",
       "      <td>REGULAR</td>\n",
       "      <td>6598847</td>\n",
       "      <td>2235829</td>\n",
       "      <td>2018-04-28 00:00:00</td>\n",
       "      <td>False</td>\n",
       "      <td>NaT</td>\n",
       "      <td>NaN</td>\n",
       "      <td>NaN</td>\n",
       "    </tr>\n",
       "    <tr>\n",
       "      <th>1</th>\n",
       "      <td>A002</td>\n",
       "      <td>R051</td>\n",
       "      <td>02-00-00</td>\n",
       "      <td>59 ST</td>\n",
       "      <td>NQR456W</td>\n",
       "      <td>BMT</td>\n",
       "      <td>04/28/2018</td>\n",
       "      <td>04:00:00</td>\n",
       "      <td>REGULAR</td>\n",
       "      <td>6598864</td>\n",
       "      <td>2235830</td>\n",
       "      <td>2018-04-28 04:00:00</td>\n",
       "      <td>True</td>\n",
       "      <td>2018-04-28 00:00:00</td>\n",
       "      <td>6598847.0</td>\n",
       "      <td>2235829.0</td>\n",
       "    </tr>\n",
       "    <tr>\n",
       "      <th>2</th>\n",
       "      <td>A002</td>\n",
       "      <td>R051</td>\n",
       "      <td>02-00-00</td>\n",
       "      <td>59 ST</td>\n",
       "      <td>NQR456W</td>\n",
       "      <td>BMT</td>\n",
       "      <td>04/28/2018</td>\n",
       "      <td>08:00:00</td>\n",
       "      <td>REGULAR</td>\n",
       "      <td>6598880</td>\n",
       "      <td>2235863</td>\n",
       "      <td>2018-04-28 08:00:00</td>\n",
       "      <td>True</td>\n",
       "      <td>2018-04-28 04:00:00</td>\n",
       "      <td>6598864.0</td>\n",
       "      <td>2235830.0</td>\n",
       "    </tr>\n",
       "    <tr>\n",
       "      <th>3</th>\n",
       "      <td>A002</td>\n",
       "      <td>R051</td>\n",
       "      <td>02-00-00</td>\n",
       "      <td>59 ST</td>\n",
       "      <td>NQR456W</td>\n",
       "      <td>BMT</td>\n",
       "      <td>04/28/2018</td>\n",
       "      <td>12:00:00</td>\n",
       "      <td>REGULAR</td>\n",
       "      <td>6598961</td>\n",
       "      <td>2235955</td>\n",
       "      <td>2018-04-28 12:00:00</td>\n",
       "      <td>True</td>\n",
       "      <td>2018-04-28 08:00:00</td>\n",
       "      <td>6598880.0</td>\n",
       "      <td>2235863.0</td>\n",
       "    </tr>\n",
       "    <tr>\n",
       "      <th>4</th>\n",
       "      <td>A002</td>\n",
       "      <td>R051</td>\n",
       "      <td>02-00-00</td>\n",
       "      <td>59 ST</td>\n",
       "      <td>NQR456W</td>\n",
       "      <td>BMT</td>\n",
       "      <td>04/28/2018</td>\n",
       "      <td>16:00:00</td>\n",
       "      <td>REGULAR</td>\n",
       "      <td>6599175</td>\n",
       "      <td>2236015</td>\n",
       "      <td>2018-04-28 16:00:00</td>\n",
       "      <td>True</td>\n",
       "      <td>2018-04-28 12:00:00</td>\n",
       "      <td>6598961.0</td>\n",
       "      <td>2235955.0</td>\n",
       "    </tr>\n",
       "  </tbody>\n",
       "</table>\n",
       "</div>"
      ],
      "text/plain": [
       "    C/A  UNIT       SCP STATION LINENAME DIVISION        DATE      TIME  \\\n",
       "0  A002  R051  02-00-00   59 ST  NQR456W      BMT  04/28/2018  00:00:00   \n",
       "1  A002  R051  02-00-00   59 ST  NQR456W      BMT  04/28/2018  04:00:00   \n",
       "2  A002  R051  02-00-00   59 ST  NQR456W      BMT  04/28/2018  08:00:00   \n",
       "3  A002  R051  02-00-00   59 ST  NQR456W      BMT  04/28/2018  12:00:00   \n",
       "4  A002  R051  02-00-00   59 ST  NQR456W      BMT  04/28/2018  16:00:00   \n",
       "\n",
       "      DESC  ENTRIES    EXITS           DATE_TIME  FOUR_HOURS_INTERVAL  \\\n",
       "0  REGULAR  6598847  2235829 2018-04-28 00:00:00                False   \n",
       "1  REGULAR  6598864  2235830 2018-04-28 04:00:00                 True   \n",
       "2  REGULAR  6598880  2235863 2018-04-28 08:00:00                 True   \n",
       "3  REGULAR  6598961  2235955 2018-04-28 12:00:00                 True   \n",
       "4  REGULAR  6599175  2236015 2018-04-28 16:00:00                 True   \n",
       "\n",
       "       PREV_DATE_TIME  PREV_ENTRIES  PREV_EXITS  \n",
       "0                 NaT           NaN         NaN  \n",
       "1 2018-04-28 00:00:00     6598847.0   2235829.0  \n",
       "2 2018-04-28 04:00:00     6598864.0   2235830.0  \n",
       "3 2018-04-28 08:00:00     6598880.0   2235863.0  \n",
       "4 2018-04-28 12:00:00     6598961.0   2235955.0  "
      ]
     },
     "execution_count": 32,
     "metadata": {},
     "output_type": "execute_result"
    }
   ],
   "source": [
    "turnstiles_df.head()"
   ]
  },
  {
   "cell_type": "code",
   "execution_count": 9,
   "metadata": {},
   "outputs": [
    {
     "data": {
      "text/plain": [
       "Index(['C/A', 'UNIT', 'SCP', 'STATION', 'LINENAME', 'DIVISION', 'DATE', 'TIME',\n",
       "       'DESC', 'ENTRIES',\n",
       "       'EXITS                                                               '],\n",
       "      dtype='object')"
      ]
     },
     "execution_count": 9,
     "metadata": {},
     "output_type": "execute_result"
    }
   ],
   "source": [
    "turnstiles_df.columns"
   ]
  },
  {
   "cell_type": "code",
   "execution_count": 10,
   "metadata": {},
   "outputs": [],
   "source": [
    "#  Deleting spaces from the column lables\n",
    "turnstiles_df.columns = [column.strip() for column in turnstiles_df.columns]"
   ]
  },
  {
   "cell_type": "code",
   "execution_count": 11,
   "metadata": {},
   "outputs": [
    {
     "data": {
      "text/plain": [
       "Index(['C/A', 'UNIT', 'SCP', 'STATION', 'LINENAME', 'DIVISION', 'DATE', 'TIME',\n",
       "       'DESC', 'ENTRIES', 'EXITS'],\n",
       "      dtype='object')"
      ]
     },
     "execution_count": 11,
     "metadata": {},
     "output_type": "execute_result"
    }
   ],
   "source": [
    "turnstiles_df.columns"
   ]
  },
  {
   "cell_type": "code",
   "execution_count": 12,
   "metadata": {},
   "outputs": [],
   "source": [
    "# Three months of Data\n",
    "#This is to make sure we have 3 months worth of data\n",
    "# turnstiles_df.DATE.value_counts().sort_index()"
   ]
  },
  {
   "cell_type": "markdown",
   "metadata": {},
   "source": [
    "Let's turn this into a time series. Create a new column that stores the date and time as a single pandas datetime object."
   ]
  },
  {
   "cell_type": "code",
   "execution_count": 13,
   "metadata": {},
   "outputs": [],
   "source": [
    "from datetime import datetime as dt"
   ]
  },
  {
   "cell_type": "code",
   "execution_count": 14,
   "metadata": {},
   "outputs": [],
   "source": [
    "# Take the date and time fields into a single datetime column\n",
    "turnstiles_df[\"DATE_TIME\"] = pd.to_datetime(turnstiles_df.DATE + \" \" + turnstiles_df.TIME, \n",
    "                                            format=\"%m/%d/%Y %H:%M:%S\")"
   ]
  },
  {
   "cell_type": "code",
   "execution_count": 15,
   "metadata": {},
   "outputs": [],
   "source": [
    "turnstiles_df = turnstiles_df.sort_values([\"C/A\", \"UNIT\", \"SCP\", \"STATION\", \"DATE_TIME\"])"
   ]
  },
  {
   "cell_type": "code",
   "execution_count": 16,
   "metadata": {},
   "outputs": [],
   "source": [
    "# Get rid of the duplicate entry\n",
    "turnstiles_df.sort_values([\"C/A\", \"UNIT\", \"SCP\", \"STATION\", \"DATE_TIME\"], \n",
    "                          inplace=True, ascending=False)\n",
    "turnstiles_df.drop_duplicates(subset=[\"C/A\", \"UNIT\", \"SCP\", \"STATION\", \"DATE_TIME\"], inplace=True)"
   ]
  },
  {
   "cell_type": "code",
   "execution_count": 17,
   "metadata": {},
   "outputs": [],
   "source": [
    "# turnstiles_df.DESC.value_counts()"
   ]
  },
  {
   "cell_type": "code",
   "execution_count": 18,
   "metadata": {},
   "outputs": [],
   "source": [
    "# turnstiles_df[turnstiles_df.DESC==\"RECOVR AUD\"]"
   ]
  },
  {
   "cell_type": "code",
   "execution_count": 19,
   "metadata": {},
   "outputs": [],
   "source": [
    "# mask = ((turnstiles_df[\"C/A\"] == \"A022\") & \n",
    "# (turnstiles_df[\"UNIT\"] == \"R022\") & \n",
    "# (turnstiles_df[\"SCP\"] == \"01-00-00\") )\n",
    "# turnstiles_df[mask].head(100)"
   ]
  },
  {
   "cell_type": "code",
   "execution_count": 20,
   "metadata": {},
   "outputs": [],
   "source": [
    "# turnstiles_df['TIME'].value_counts()"
   ]
  },
  {
   "cell_type": "code",
   "execution_count": 33,
   "metadata": {},
   "outputs": [],
   "source": [
    "# turnstiles_df[\"DATE_TIME\"].transform(lambda t: t.hour).value_counts()"
   ]
  },
  {
   "cell_type": "markdown",
   "metadata": {},
   "source": [
    "**We Create an indicator to flag turnstile that have exactly 4 hours difference with the previous one. Otherwise we can't compare the turnsiles!!**"
   ]
  },
  {
   "cell_type": "code",
   "execution_count": 21,
   "metadata": {},
   "outputs": [],
   "source": [
    "turnstiles_df = turnstiles_df.sort_values([\"C/A\", \"UNIT\", \"SCP\", \"STATION\", \"DATE_TIME\"],ascending=True)\n",
    "turnstiles_df[\"FOUR_HOURS_INTERVAL\"] = (turnstiles_df[\"DATE_TIME\"].diff()==\"04:00:00\")"
   ]
  },
  {
   "cell_type": "code",
   "execution_count": 27,
   "metadata": {},
   "outputs": [],
   "source": [
    "#checking individual counts\n",
    "# turnstiles_df.ENTRIES.diff()[turnstiles_df.FOUR_HOURS_INTERVAL].describe()"
   ]
  },
  {
   "cell_type": "code",
   "execution_count": 34,
   "metadata": {},
   "outputs": [],
   "source": [
    "turnstiles_df[[\"PREV_DATE_TIME\", \"PREV_ENTRIES\", \"PREV_EXITS\"]] = (turnstiles_df\n",
    "                                                       .groupby([\"C/A\", \"UNIT\", \"SCP\", \"STATION\"])[\"DATE_TIME\", \"ENTRIES\", \"EXITS\"]\n",
    "                                                       .transform(lambda grp: grp.shift(1)))"
   ]
  },
  {
   "cell_type": "code",
   "execution_count": 35,
   "metadata": {},
   "outputs": [
    {
     "data": {
      "text/html": [
       "<div>\n",
       "<style scoped>\n",
       "    .dataframe tbody tr th:only-of-type {\n",
       "        vertical-align: middle;\n",
       "    }\n",
       "\n",
       "    .dataframe tbody tr th {\n",
       "        vertical-align: top;\n",
       "    }\n",
       "\n",
       "    .dataframe thead th {\n",
       "        text-align: right;\n",
       "    }\n",
       "</style>\n",
       "<table border=\"1\" class=\"dataframe\">\n",
       "  <thead>\n",
       "    <tr style=\"text-align: right;\">\n",
       "      <th></th>\n",
       "      <th>C/A</th>\n",
       "      <th>UNIT</th>\n",
       "      <th>SCP</th>\n",
       "      <th>STATION</th>\n",
       "      <th>LINENAME</th>\n",
       "      <th>DIVISION</th>\n",
       "      <th>DATE</th>\n",
       "      <th>TIME</th>\n",
       "      <th>DESC</th>\n",
       "      <th>ENTRIES</th>\n",
       "      <th>EXITS</th>\n",
       "      <th>DATE_TIME</th>\n",
       "      <th>FOUR_HOURS_INTERVAL</th>\n",
       "      <th>PREV_DATE_TIME</th>\n",
       "      <th>PREV_ENTRIES</th>\n",
       "      <th>PREV_EXITS</th>\n",
       "    </tr>\n",
       "  </thead>\n",
       "  <tbody>\n",
       "    <tr>\n",
       "      <th>0</th>\n",
       "      <td>A002</td>\n",
       "      <td>R051</td>\n",
       "      <td>02-00-00</td>\n",
       "      <td>59 ST</td>\n",
       "      <td>NQR456W</td>\n",
       "      <td>BMT</td>\n",
       "      <td>04/28/2018</td>\n",
       "      <td>00:00:00</td>\n",
       "      <td>REGULAR</td>\n",
       "      <td>6598847</td>\n",
       "      <td>2235829</td>\n",
       "      <td>2018-04-28 00:00:00</td>\n",
       "      <td>False</td>\n",
       "      <td>NaT</td>\n",
       "      <td>NaN</td>\n",
       "      <td>NaN</td>\n",
       "    </tr>\n",
       "    <tr>\n",
       "      <th>1</th>\n",
       "      <td>A002</td>\n",
       "      <td>R051</td>\n",
       "      <td>02-00-00</td>\n",
       "      <td>59 ST</td>\n",
       "      <td>NQR456W</td>\n",
       "      <td>BMT</td>\n",
       "      <td>04/28/2018</td>\n",
       "      <td>04:00:00</td>\n",
       "      <td>REGULAR</td>\n",
       "      <td>6598864</td>\n",
       "      <td>2235830</td>\n",
       "      <td>2018-04-28 04:00:00</td>\n",
       "      <td>True</td>\n",
       "      <td>2018-04-28 00:00:00</td>\n",
       "      <td>6598847.0</td>\n",
       "      <td>2235829.0</td>\n",
       "    </tr>\n",
       "    <tr>\n",
       "      <th>2</th>\n",
       "      <td>A002</td>\n",
       "      <td>R051</td>\n",
       "      <td>02-00-00</td>\n",
       "      <td>59 ST</td>\n",
       "      <td>NQR456W</td>\n",
       "      <td>BMT</td>\n",
       "      <td>04/28/2018</td>\n",
       "      <td>08:00:00</td>\n",
       "      <td>REGULAR</td>\n",
       "      <td>6598880</td>\n",
       "      <td>2235863</td>\n",
       "      <td>2018-04-28 08:00:00</td>\n",
       "      <td>True</td>\n",
       "      <td>2018-04-28 04:00:00</td>\n",
       "      <td>6598864.0</td>\n",
       "      <td>2235830.0</td>\n",
       "    </tr>\n",
       "    <tr>\n",
       "      <th>3</th>\n",
       "      <td>A002</td>\n",
       "      <td>R051</td>\n",
       "      <td>02-00-00</td>\n",
       "      <td>59 ST</td>\n",
       "      <td>NQR456W</td>\n",
       "      <td>BMT</td>\n",
       "      <td>04/28/2018</td>\n",
       "      <td>12:00:00</td>\n",
       "      <td>REGULAR</td>\n",
       "      <td>6598961</td>\n",
       "      <td>2235955</td>\n",
       "      <td>2018-04-28 12:00:00</td>\n",
       "      <td>True</td>\n",
       "      <td>2018-04-28 08:00:00</td>\n",
       "      <td>6598880.0</td>\n",
       "      <td>2235863.0</td>\n",
       "    </tr>\n",
       "    <tr>\n",
       "      <th>4</th>\n",
       "      <td>A002</td>\n",
       "      <td>R051</td>\n",
       "      <td>02-00-00</td>\n",
       "      <td>59 ST</td>\n",
       "      <td>NQR456W</td>\n",
       "      <td>BMT</td>\n",
       "      <td>04/28/2018</td>\n",
       "      <td>16:00:00</td>\n",
       "      <td>REGULAR</td>\n",
       "      <td>6599175</td>\n",
       "      <td>2236015</td>\n",
       "      <td>2018-04-28 16:00:00</td>\n",
       "      <td>True</td>\n",
       "      <td>2018-04-28 12:00:00</td>\n",
       "      <td>6598961.0</td>\n",
       "      <td>2235955.0</td>\n",
       "    </tr>\n",
       "  </tbody>\n",
       "</table>\n",
       "</div>"
      ],
      "text/plain": [
       "    C/A  UNIT       SCP STATION LINENAME DIVISION        DATE      TIME  \\\n",
       "0  A002  R051  02-00-00   59 ST  NQR456W      BMT  04/28/2018  00:00:00   \n",
       "1  A002  R051  02-00-00   59 ST  NQR456W      BMT  04/28/2018  04:00:00   \n",
       "2  A002  R051  02-00-00   59 ST  NQR456W      BMT  04/28/2018  08:00:00   \n",
       "3  A002  R051  02-00-00   59 ST  NQR456W      BMT  04/28/2018  12:00:00   \n",
       "4  A002  R051  02-00-00   59 ST  NQR456W      BMT  04/28/2018  16:00:00   \n",
       "\n",
       "      DESC  ENTRIES    EXITS           DATE_TIME  FOUR_HOURS_INTERVAL  \\\n",
       "0  REGULAR  6598847  2235829 2018-04-28 00:00:00                False   \n",
       "1  REGULAR  6598864  2235830 2018-04-28 04:00:00                 True   \n",
       "2  REGULAR  6598880  2235863 2018-04-28 08:00:00                 True   \n",
       "3  REGULAR  6598961  2235955 2018-04-28 12:00:00                 True   \n",
       "4  REGULAR  6599175  2236015 2018-04-28 16:00:00                 True   \n",
       "\n",
       "       PREV_DATE_TIME  PREV_ENTRIES  PREV_EXITS  \n",
       "0                 NaT           NaN         NaN  \n",
       "1 2018-04-28 00:00:00     6598847.0   2235829.0  \n",
       "2 2018-04-28 04:00:00     6598864.0   2235830.0  \n",
       "3 2018-04-28 08:00:00     6598880.0   2235863.0  \n",
       "4 2018-04-28 12:00:00     6598961.0   2235955.0  "
      ]
     },
     "execution_count": 35,
     "metadata": {},
     "output_type": "execute_result"
    }
   ],
   "source": [
    "turnstiles_df.head()"
   ]
  },
  {
   "cell_type": "code",
   "execution_count": 36,
   "metadata": {},
   "outputs": [],
   "source": [
    "# Drop the rows for the earliest date in the df\n",
    "turnstiles_df.dropna(subset=[\"PREV_DATE_TIME\"], axis=0, inplace=True)"
   ]
  },
  {
   "cell_type": "code",
   "execution_count": null,
   "metadata": {},
   "outputs": [
    {
     "name": "stdout",
     "output_type": "stream",
     "text": [
      "488 2997549.0\n",
      "114 29163426.0\n",
      "524296 1535945.0\n",
      "7 1646681283.0\n",
      "39 4111454.0\n",
      "552547867 2106.0\n",
      "338 1813703.0\n",
      "3584210 16809292.0\n",
      "433 5074202.0\n",
      "50386730 254800.0\n",
      "122 50386730.0\n",
      "245 7117903.0\n",
      "458763 4365358.0\n",
      "16824342 102581.0\n",
      "134 1949067.0\n",
      "174 3956142.0\n",
      "353 4451954.0\n",
      "319 2944492.0\n",
      "52 1071940.0\n",
      "62 2411616.0\n",
      "1442830408 11142660.0\n",
      "7 4709092.0\n",
      "10 2479313.0\n",
      "1114281 6565.0\n",
      "348 20220123.0\n",
      "107 11178676.0\n",
      "18 2776359.0\n",
      "1208002150 4781477.0\n",
      "3794852 812861.0\n",
      "12 3794871.0\n",
      "54 1149724.0\n",
      "17 1320446.0\n",
      "33604922 145092.0\n",
      "33602414 158393.0\n",
      "169 1685045.0\n",
      "0 1122816.0\n",
      "218572142 118342934.0\n",
      "1493118270 10963364.0\n",
      "44507993 1493040918.0\n",
      "704645171 2783736.0\n",
      "16 5890270.0\n",
      "1282912405 239.0\n",
      "10 1282912405.0\n",
      "137 1787704.0\n",
      "30 1580082.0\n",
      "2067430671 910999.0\n",
      "2067447699 2242569.0\n",
      "1349914 2067431093.0\n",
      "5105581 1349335.0\n",
      "8781866 4718825.0\n",
      "119 7015818.0\n",
      "458761 151252604.0\n",
      "44 9652856.0\n",
      "621072165 2252127.0\n",
      "2252257 621072165.0\n",
      "0 50331648.0\n",
      "74 871938174.0\n",
      "44 4648569.0\n",
      "458759 67192668.0\n",
      "44 1752712.0\n",
      "117444532 136656341.0\n",
      "65 1066413.0\n",
      "1067077 65.0\n",
      "141 1067077.0\n",
      "1073104 909.0\n",
      "1171 1073554.0\n",
      "1075352 1171.0\n",
      "1290 1075352.0\n",
      "1075639 1303.0\n",
      "1385 1075639.0\n",
      "1076578 1385.0\n",
      "1476 1076578.0\n",
      "1077623 1512.0\n",
      "1615 1077623.0\n",
      "1078106 1636.0\n",
      "1935 1078387.0\n",
      "1081263 2031.0\n",
      "2343 1081263.0\n",
      "1081476 2343.0\n",
      "2436 1081476.0\n",
      "1081476 2436.0\n",
      "2447 1081476.0\n",
      "1083109 2787.0\n",
      "3289 1086248.0\n",
      "1086364 3289.0\n",
      "3583 1086364.0\n",
      "1086981 3583.0\n",
      "3697 1087380.0\n",
      "2705659 364711.0\n",
      "365092 2705659.0\n",
      "1917721 282565.0\n",
      "282592 1917721.0\n",
      "2287558 25909.0\n",
      "25935 2287558.0\n",
      "0 2060052.0\n",
      "0 1323882.0\n",
      "48 1042386.0\n",
      "678 10301231.0\n",
      "524349 67197948.0\n",
      "31 117563815.0\n",
      "458761 83931134.0\n",
      "2113960203 8260079.0\n",
      "678 2113960571.0\n",
      "0 50331648.0\n",
      "0 4533810.0\n",
      "4533810 0.0\n",
      "288 16429251.0\n",
      "235 1517135.0\n",
      "134 16835516.0\n",
      "107 4417352.0\n",
      "292 2009663.0\n",
      "1206 3330187.0\n",
      "1654 2664564.0\n",
      "356 12996753.0\n",
      "924928668 1859544808.0\n",
      "387980040 924936230.0\n",
      "102 1146219.0\n",
      "11 1181760.0\n",
      "117440798 1487842.0\n",
      "12 4951320.0\n",
      "458761 2126339.0\n",
      "126 2381279.0\n",
      "115 2290049.0\n",
      "168 4767428.0\n",
      "117440797 460536.0\n",
      "152 1133524.0\n",
      "1997 2007890462.0\n",
      "11010048 148916.0\n",
      "2424998 11010048.0\n",
      "7 2430951.0\n",
      "704657293 2786140.0\n",
      "90 7427088.0\n",
      "16 4929736.0\n",
      "1224783914 4840258.0\n",
      "1577073508 6176648.0\n",
      "16712036 2371.0\n",
      "17 16718688.0\n",
      "2144892848 2590604.0\n",
      "2591086 2144892848.0\n",
      "116 3449388.0\n",
      "1258306153 4962158.0\n",
      "1962868779 9145363.0\n",
      "13 3534776.0\n",
      "37 4707969.0\n",
      "268480038 1102498.0\n",
      "1067529 268483132.0\n",
      "989908443 3891374.0\n",
      "51136976 201563677.0\n",
      "103 51138086.0\n",
      "67108865 117440833.0\n",
      "524289 67108865.0\n",
      "117445120 458769.0\n",
      "1325426161 5217078.0\n",
      "42 12537366.0\n",
      "1953177667 1001.0\n",
      "56 6304900.0\n",
      "318815944 1284183.0\n",
      "389 5970206.0\n",
      "17452331 5055163.0\n",
      "9723372 13918123.0\n",
      "10875147 9723372.0\n",
      "9 10875147.0\n",
      "0 3228086.0\n",
      "7 2726833.0\n",
      "7 1792094.0\n",
      "90 4977483.0\n",
      "2165 7100843.0\n",
      "7 2393863.0\n",
      "6 1743040.0\n",
      "342 3422653.0\n",
      "79 3654920.0\n",
      "1310755 185804.0\n",
      "222 14319848.0\n",
      "2555904 276636.0\n",
      "12 2556632.0\n"
     ]
    }
   ],
   "source": [
    "def get_hourly_interval_counts(row, max_counter, column):\n",
    "    counter = row[column] - row[\"PREV_\"+column]\n",
    "    if counter < 0:\n",
    "        # Maybe counter is reversed?\n",
    "        counter = -counter\n",
    "    if counter > max_counter:\n",
    "        # Maybe counter was reset to 0? \n",
    "        print(row[column], row[\"PREV_\"+column])\n",
    "        counter = min(row[column], row[\"PREV_\"+column])\n",
    "    if counter > max_counter:\n",
    "        # Check it again to make sure we're not still giving a counter that's too big\n",
    "        return 0\n",
    "    return counter\n",
    "\n",
    "# If counter is > 1Million, then the counter might have been reset.  \n",
    "# Just set it to zero as different counters have different cycle limits\n",
    "# It'd probably be a good idea to use a number even significantly smaller than 1 million as the limit!\n",
    "turnstiles_df[\"INTERVAL_ENTRIES\"] = turnstiles_df.apply(get_hourly_interval_counts, axis=1, max_counter=1000000, column=\"ENTRIES\")\n",
    "turnstiles_df[\"INTERVAL_EXITS\"] = turnstiles_df.apply(get_hourly_interval_counts, axis=1, max_counter=1000000, column=\"EXITS\")"
   ]
  },
  {
   "cell_type": "code",
   "execution_count": 73,
   "metadata": {},
   "outputs": [
    {
     "data": {
      "text/plain": [
       "count    5.019660e+05\n",
       "mean     3.096552e+03\n",
       "std      2.020868e+06\n",
       "min     -1.087514e+07\n",
       "25%      5.500000e+01\n",
       "50%      1.860000e+02\n",
       "75%      4.130000e+02\n",
       "max      1.431688e+09\n",
       "Name: ENTRIES, dtype: float64"
      ]
     },
     "execution_count": 73,
     "metadata": {},
     "output_type": "execute_result"
    }
   ],
   "source": [
    "turnstiles_df.ENTRIES.diff()[turnstiles_df.VALID_EXITS].describe()"
   ]
  },
  {
   "cell_type": "markdown",
   "metadata": {},
   "source": [
    "**We have to deal with negative and extreme values!**\n",
    "\n",
    "Strategy : Flag as non valid for now (maximum value = 10 K)"
   ]
  },
  {
   "cell_type": "code",
   "execution_count": 74,
   "metadata": {},
   "outputs": [],
   "source": [
    "turnstiles_df.VALID_ENTRIES=(turnstiles_df.VALID_ENTRIES) & (turnstiles_df.ENTRIES.diff()>0) & (turnstiles_df.ENTRIES.diff()< 10000)\n",
    "turnstiles_df.VALID_EXITS=(turnstiles_df.VALID_EXITS) & (turnstiles_df.EXITS.diff()>0) & (turnstiles_df.EXITS.diff()< 10000)"
   ]
  },
  {
   "cell_type": "code",
   "execution_count": 75,
   "metadata": {},
   "outputs": [
    {
     "data": {
      "text/plain": [
       "count    431190.000000\n",
       "mean        262.246061\n",
       "std         259.463956\n",
       "min           1.000000\n",
       "25%          83.000000\n",
       "50%         184.000000\n",
       "75%         358.000000\n",
       "max        3184.000000\n",
       "Name: ENTRIES, dtype: float64"
      ]
     },
     "execution_count": 75,
     "metadata": {},
     "output_type": "execute_result"
    }
   ],
   "source": [
    "turnstiles_df.ENTRIES.diff()[turnstiles_df.VALID_ENTRIES].describe()"
   ]
  },
  {
   "cell_type": "code",
   "execution_count": 76,
   "metadata": {},
   "outputs": [
    {
     "data": {
      "text/plain": [
       "count    433784.000000\n",
       "mean        338.018781\n",
       "std         619.775162\n",
       "min     -327686.000000\n",
       "25%         103.000000\n",
       "50%         228.000000\n",
       "75%         460.000000\n",
       "max        3506.000000\n",
       "Name: ENTRIES, dtype: float64"
      ]
     },
     "execution_count": 76,
     "metadata": {},
     "output_type": "execute_result"
    }
   ],
   "source": [
    "turnstiles_df.ENTRIES.diff()[turnstiles_df.VALID_EXITS].describe()"
   ]
  },
  {
   "cell_type": "markdown",
   "metadata": {},
   "source": [
    "This worked! Let's create the count variable for valid entries and exits."
   ]
  },
  {
   "cell_type": "code",
   "execution_count": 77,
   "metadata": {},
   "outputs": [],
   "source": [
    "turnstiles_df[\"INTERVAL_ENTRIES\"]=turnstiles_df.ENTRIES.diff()\n",
    "turnstiles_df[\"INTERVAL_EXITS\"]=turnstiles_df.EXITS.diff()"
   ]
  },
  {
   "cell_type": "code",
   "execution_count": 78,
   "metadata": {},
   "outputs": [],
   "source": [
    "# turnstiles_df.DESC[turnstiles_df.VALID_ENTRIES].value_counts()"
   ]
  },
  {
   "cell_type": "code",
   "execution_count": 79,
   "metadata": {},
   "outputs": [],
   "source": [
    "# turnstiles_df.DESC[turnstiles_df.VALID_EXITS].value_counts()"
   ]
  },
  {
   "cell_type": "code",
   "execution_count": 80,
   "metadata": {},
   "outputs": [],
   "source": [
    "# turnstiles_df['INTERVAL_ENTRIES'].shift(-1).head()"
   ]
  },
  {
   "cell_type": "markdown",
   "metadata": {},
   "source": [
    "**Now, we have to deal with specific stations --> EXPLAIN HERE**"
   ]
  },
  {
   "cell_type": "code",
   "execution_count": 1,
   "metadata": {},
   "outputs": [
    {
     "ename": "NameError",
     "evalue": "name 'turnstiles_df' is not defined",
     "output_type": "error",
     "traceback": [
      "\u001b[0;31m---------------------------------------------------------------------------\u001b[0m",
      "\u001b[0;31mNameError\u001b[0m                                 Traceback (most recent call last)",
      "\u001b[0;32m<ipython-input-1-c5f566069479>\u001b[0m in \u001b[0;36m<module>\u001b[0;34m()\u001b[0m\n\u001b[0;32m----> 1\u001b[0;31m \u001b[0mturnstiles_df\u001b[0m\u001b[0;34m[\u001b[0m\u001b[0mturnstiles_df\u001b[0m\u001b[0;34m.\u001b[0m\u001b[0mDIVISION\u001b[0m\u001b[0;34m==\u001b[0m\u001b[0;34m\"PTH\"\u001b[0m\u001b[0;34m]\u001b[0m\u001b[0;34m[\u001b[0m\u001b[0;34m\"STATION\"\u001b[0m\u001b[0;34m]\u001b[0m\u001b[0;34m.\u001b[0m\u001b[0munique\u001b[0m\u001b[0;34m(\u001b[0m\u001b[0;34m)\u001b[0m\u001b[0;34m\u001b[0m\u001b[0m\n\u001b[0m",
      "\u001b[0;31mNameError\u001b[0m: name 'turnstiles_df' is not defined"
     ]
    }
   ],
   "source": [
    "turnstiles_df[turnstiles_df.DIVISION==\"PTH\"][\"STATION\"].unique()"
   ]
  },
  {
   "cell_type": "code",
   "execution_count": 82,
   "metadata": {},
   "outputs": [],
   "source": [
    "newList = ['NEWARK HW BMEBE', 'HARRISON', 'JOURNAL SQUARE', 'GROVE STREET', 'EXCHANGE PLACE', 'PAVONIA/NEWPORT', 'CITY / BUS', 'LACKAWANNA', 'NEWARK BM BW',\n",
    "       'NEWARK C', 'NEWARK HM HE']\n",
    "# We just drop the correspondant rows from the dataframe\n",
    "new_turnstiles_df = turnstiles_df[~turnstiles_df['STATION'].isin(newList)]"
   ]
  },
  {
   "cell_type": "code",
   "execution_count": 83,
   "metadata": {},
   "outputs": [
    {
     "data": {
      "text/plain": [
       "array(['CHRISTOPHER ST', '9TH STREET', '14TH STREET', 'TWENTY THIRD ST',\n",
       "       'THIRTY ST', 'THIRTY THIRD ST', 'PATH WTC 2', 'PATH NEW WTC'],\n",
       "      dtype=object)"
      ]
     },
     "execution_count": 83,
     "metadata": {},
     "output_type": "execute_result"
    }
   ],
   "source": [
    "#Check\n",
    "new_turnstiles_df[new_turnstiles_df.DIVISION==\"PTH\"][\"STATION\"].unique()"
   ]
  },
  {
   "cell_type": "code",
   "execution_count": 84,
   "metadata": {},
   "outputs": [],
   "source": [
    "# new_turnstiles_df.loc[new_turnstile_df.INTERVAL_ENTRIES==3006]"
   ]
  },
  {
   "cell_type": "markdown",
   "metadata": {},
   "source": [
    "**Now, let's agregate the results by station!**"
   ]
  },
  {
   "cell_type": "code",
   "execution_count": 85,
   "metadata": {},
   "outputs": [],
   "source": [
    "# new_turnstiles_df[new_turnstiles_df.VALID_ENTRIES].groupby([\"C/A\", \"UNIT\", \"SCP\",'STATION','DATE']).agg('count')\n"
   ]
  },
  {
   "cell_type": "code",
   "execution_count": 86,
   "metadata": {},
   "outputs": [
    {
     "data": {
      "text/html": [
       "<div>\n",
       "<style scoped>\n",
       "    .dataframe tbody tr th:only-of-type {\n",
       "        vertical-align: middle;\n",
       "    }\n",
       "\n",
       "    .dataframe tbody tr th {\n",
       "        vertical-align: top;\n",
       "    }\n",
       "\n",
       "    .dataframe thead th {\n",
       "        text-align: right;\n",
       "    }\n",
       "</style>\n",
       "<table border=\"1\" class=\"dataframe\">\n",
       "  <thead>\n",
       "    <tr style=\"text-align: right;\">\n",
       "      <th></th>\n",
       "      <th>STATION</th>\n",
       "      <th>DATE</th>\n",
       "      <th>INTERVAL_ENTRIES</th>\n",
       "    </tr>\n",
       "  </thead>\n",
       "  <tbody>\n",
       "    <tr>\n",
       "      <th>6901</th>\n",
       "      <td>34 ST-PENN STA</td>\n",
       "      <td>07/25/2018</td>\n",
       "      <td>40361.0</td>\n",
       "    </tr>\n",
       "    <tr>\n",
       "      <th>6899</th>\n",
       "      <td>34 ST-PENN STA</td>\n",
       "      <td>07/23/2018</td>\n",
       "      <td>39601.0</td>\n",
       "    </tr>\n",
       "    <tr>\n",
       "      <th>6892</th>\n",
       "      <td>34 ST-PENN STA</td>\n",
       "      <td>07/16/2018</td>\n",
       "      <td>39212.0</td>\n",
       "    </tr>\n",
       "    <tr>\n",
       "      <th>6915</th>\n",
       "      <td>34 ST-PENN STA</td>\n",
       "      <td>08/08/2018</td>\n",
       "      <td>38942.0</td>\n",
       "    </tr>\n",
       "    <tr>\n",
       "      <th>6906</th>\n",
       "      <td>34 ST-PENN STA</td>\n",
       "      <td>07/30/2018</td>\n",
       "      <td>38933.0</td>\n",
       "    </tr>\n",
       "  </tbody>\n",
       "</table>\n",
       "</div>"
      ],
      "text/plain": [
       "             STATION        DATE  INTERVAL_ENTRIES\n",
       "6901  34 ST-PENN STA  07/25/2018           40361.0\n",
       "6899  34 ST-PENN STA  07/23/2018           39601.0\n",
       "6892  34 ST-PENN STA  07/16/2018           39212.0\n",
       "6915  34 ST-PENN STA  08/08/2018           38942.0\n",
       "6906  34 ST-PENN STA  07/30/2018           38933.0"
      ]
     },
     "execution_count": 86,
     "metadata": {},
     "output_type": "execute_result"
    }
   ],
   "source": [
    "# first get the sum of entries in the AM slot by station every day\n",
    "stations_Interval_Entries = \\\n",
    "(new_turnstiles_df[new_turnstiles_df.VALID_ENTRIES].groupby(['STATION','DATE'])['INTERVAL_ENTRIES'].sum()\n",
    "                 .reset_index()).sort_values(by=\"INTERVAL_ENTRIES\", ascending=False)  \n",
    "\n",
    "stations_Interval_Entries.head()"
   ]
  },
  {
   "cell_type": "code",
   "execution_count": 87,
   "metadata": {},
   "outputs": [
    {
     "data": {
      "text/html": [
       "<div>\n",
       "<style scoped>\n",
       "    .dataframe tbody tr th:only-of-type {\n",
       "        vertical-align: middle;\n",
       "    }\n",
       "\n",
       "    .dataframe tbody tr th {\n",
       "        vertical-align: top;\n",
       "    }\n",
       "\n",
       "    .dataframe thead th {\n",
       "        text-align: right;\n",
       "    }\n",
       "</style>\n",
       "<table border=\"1\" class=\"dataframe\">\n",
       "  <thead>\n",
       "    <tr style=\"text-align: right;\">\n",
       "      <th></th>\n",
       "      <th>STATION</th>\n",
       "      <th>DATE</th>\n",
       "      <th>INTERVAL_EXITS</th>\n",
       "    </tr>\n",
       "  </thead>\n",
       "  <tbody>\n",
       "    <tr>\n",
       "      <th>6965</th>\n",
       "      <td>34 ST-PENN STA</td>\n",
       "      <td>07/17/2018</td>\n",
       "      <td>49962.0</td>\n",
       "    </tr>\n",
       "    <tr>\n",
       "      <th>6902</th>\n",
       "      <td>34 ST-PENN STA</td>\n",
       "      <td>05/15/2018</td>\n",
       "      <td>48847.0</td>\n",
       "    </tr>\n",
       "    <tr>\n",
       "      <th>6972</th>\n",
       "      <td>34 ST-PENN STA</td>\n",
       "      <td>07/24/2018</td>\n",
       "      <td>47509.0</td>\n",
       "    </tr>\n",
       "    <tr>\n",
       "      <th>6958</th>\n",
       "      <td>34 ST-PENN STA</td>\n",
       "      <td>07/10/2018</td>\n",
       "      <td>47440.0</td>\n",
       "    </tr>\n",
       "    <tr>\n",
       "      <th>6903</th>\n",
       "      <td>34 ST-PENN STA</td>\n",
       "      <td>05/16/2018</td>\n",
       "      <td>47395.0</td>\n",
       "    </tr>\n",
       "  </tbody>\n",
       "</table>\n",
       "</div>"
      ],
      "text/plain": [
       "             STATION        DATE  INTERVAL_EXITS\n",
       "6965  34 ST-PENN STA  07/17/2018         49962.0\n",
       "6902  34 ST-PENN STA  05/15/2018         48847.0\n",
       "6972  34 ST-PENN STA  07/24/2018         47509.0\n",
       "6958  34 ST-PENN STA  07/10/2018         47440.0\n",
       "6903  34 ST-PENN STA  05/16/2018         47395.0"
      ]
     },
     "execution_count": 87,
     "metadata": {},
     "output_type": "execute_result"
    }
   ],
   "source": [
    "# first get the sum of exits in the PM slot by station every day\n",
    "stations_Interval_Exits = \\\n",
    "(new_turnstiles_df[new_turnstiles_df.VALID_EXITS].groupby(['STATION','DATE'])['INTERVAL_EXITS'].sum()\n",
    "                 .reset_index()).sort_values(by=\"INTERVAL_EXITS\", ascending=False) \n",
    "                   \n",
    "stations_Interval_Exits.head()"
   ]
  },
  {
   "cell_type": "code",
   "execution_count": 88,
   "metadata": {},
   "outputs": [
    {
     "data": {
      "text/html": [
       "<div>\n",
       "<style scoped>\n",
       "    .dataframe tbody tr th:only-of-type {\n",
       "        vertical-align: middle;\n",
       "    }\n",
       "\n",
       "    .dataframe tbody tr th {\n",
       "        vertical-align: top;\n",
       "    }\n",
       "\n",
       "    .dataframe thead th {\n",
       "        text-align: right;\n",
       "    }\n",
       "</style>\n",
       "<table border=\"1\" class=\"dataframe\">\n",
       "  <thead>\n",
       "    <tr style=\"text-align: right;\">\n",
       "      <th></th>\n",
       "      <th>INTERVAL_ENTRIES</th>\n",
       "    </tr>\n",
       "  </thead>\n",
       "  <tbody>\n",
       "    <tr>\n",
       "      <th>count</th>\n",
       "      <td>355.000000</td>\n",
       "    </tr>\n",
       "    <tr>\n",
       "      <th>mean</th>\n",
       "      <td>2721.326502</td>\n",
       "    </tr>\n",
       "    <tr>\n",
       "      <th>std</th>\n",
       "      <td>3238.889856</td>\n",
       "    </tr>\n",
       "    <tr>\n",
       "      <th>min</th>\n",
       "      <td>11.956522</td>\n",
       "    </tr>\n",
       "    <tr>\n",
       "      <th>25%</th>\n",
       "      <td>837.418305</td>\n",
       "    </tr>\n",
       "    <tr>\n",
       "      <th>50%</th>\n",
       "      <td>1753.201681</td>\n",
       "    </tr>\n",
       "    <tr>\n",
       "      <th>75%</th>\n",
       "      <td>3124.168067</td>\n",
       "    </tr>\n",
       "    <tr>\n",
       "      <th>max</th>\n",
       "      <td>26931.697479</td>\n",
       "    </tr>\n",
       "  </tbody>\n",
       "</table>\n",
       "</div>"
      ],
      "text/plain": [
       "       INTERVAL_ENTRIES\n",
       "count        355.000000\n",
       "mean        2721.326502\n",
       "std         3238.889856\n",
       "min           11.956522\n",
       "25%          837.418305\n",
       "50%         1753.201681\n",
       "75%         3124.168067\n",
       "max        26931.697479"
      ]
     },
     "execution_count": 88,
     "metadata": {},
     "output_type": "execute_result"
    }
   ],
   "source": [
    "# The get the average entries by station\n",
    "stations_Interval_Entries_average=(stations_Interval_Entries.groupby(['STATION'])['INTERVAL_ENTRIES'].mean()\n",
    "                 .reset_index()).sort_values(by=\"INTERVAL_ENTRIES\", ascending=False) \n",
    "\n",
    "stations_Interval_Entries_average.describe()"
   ]
  },
  {
   "cell_type": "code",
   "execution_count": 89,
   "metadata": {},
   "outputs": [
    {
     "data": {
      "text/html": [
       "<div>\n",
       "<style scoped>\n",
       "    .dataframe tbody tr th:only-of-type {\n",
       "        vertical-align: middle;\n",
       "    }\n",
       "\n",
       "    .dataframe tbody tr th {\n",
       "        vertical-align: top;\n",
       "    }\n",
       "\n",
       "    .dataframe thead th {\n",
       "        text-align: right;\n",
       "    }\n",
       "</style>\n",
       "<table border=\"1\" class=\"dataframe\">\n",
       "  <thead>\n",
       "    <tr style=\"text-align: right;\">\n",
       "      <th></th>\n",
       "      <th>INTERVAL_EXITS</th>\n",
       "    </tr>\n",
       "  </thead>\n",
       "  <tbody>\n",
       "    <tr>\n",
       "      <th>count</th>\n",
       "      <td>355.000000</td>\n",
       "    </tr>\n",
       "    <tr>\n",
       "      <th>mean</th>\n",
       "      <td>2780.755969</td>\n",
       "    </tr>\n",
       "    <tr>\n",
       "      <th>std</th>\n",
       "      <td>4025.792729</td>\n",
       "    </tr>\n",
       "    <tr>\n",
       "      <th>min</th>\n",
       "      <td>3.125000</td>\n",
       "    </tr>\n",
       "    <tr>\n",
       "      <th>25%</th>\n",
       "      <td>769.302521</td>\n",
       "    </tr>\n",
       "    <tr>\n",
       "      <th>50%</th>\n",
       "      <td>1514.112069</td>\n",
       "    </tr>\n",
       "    <tr>\n",
       "      <th>75%</th>\n",
       "      <td>3086.924370</td>\n",
       "    </tr>\n",
       "    <tr>\n",
       "      <th>max</th>\n",
       "      <td>34404.411765</td>\n",
       "    </tr>\n",
       "  </tbody>\n",
       "</table>\n",
       "</div>"
      ],
      "text/plain": [
       "       INTERVAL_EXITS\n",
       "count      355.000000\n",
       "mean      2780.755969\n",
       "std       4025.792729\n",
       "min          3.125000\n",
       "25%        769.302521\n",
       "50%       1514.112069\n",
       "75%       3086.924370\n",
       "max      34404.411765"
      ]
     },
     "execution_count": 89,
     "metadata": {},
     "output_type": "execute_result"
    }
   ],
   "source": [
    "# The get the average exits by station\n",
    "stations_Interval_Exits_average=(stations_Interval_Exits.groupby(['STATION'])['INTERVAL_EXITS'].mean()\n",
    "                 .reset_index()).sort_values(by=\"INTERVAL_EXITS\", ascending=False) \n",
    "\n",
    "stations_Interval_Exits_average.describe()"
   ]
  },
  {
   "cell_type": "code",
   "execution_count": 90,
   "metadata": {},
   "outputs": [],
   "source": [
    "# # first get avegage entries in the AM slot by station\n",
    "# stations_Interval_Entries = \\\n",
    "# (new_turnstiles_df[new_turnstiles_df.VALID_ENTRIES].groupby(['STATION'])['INTERVAL_ENTRIES'].sum()\n",
    "#                  .reset_index()).sort_values(by=\"INTERVAL_ENTRIES\", ascending=False)  \n",
    "\n",
    "# stations_Interval_Entries.describe()"
   ]
  },
  {
   "cell_type": "code",
   "execution_count": 91,
   "metadata": {},
   "outputs": [],
   "source": [
    "# stations_Interval_Entries.head(10)"
   ]
  },
  {
   "cell_type": "code",
   "execution_count": 92,
   "metadata": {},
   "outputs": [],
   "source": [
    "# stations_Interval_Exits = \\\n",
    "# (new_turnstiles_df[new_turnstiles_df.VALID_EXITS].groupby(['STATION'])['INTERVAL_EXITS'].sum()\n",
    "#                  .reset_index()).sort_values(by=\"INTERVAL_EXITS\", ascending=False) \n",
    "                   \n",
    "# stations_Interval_Exits.describe()"
   ]
  },
  {
   "cell_type": "code",
   "execution_count": 93,
   "metadata": {},
   "outputs": [],
   "source": [
    "# stations_Interval_Exits.head(10)"
   ]
  },
  {
   "cell_type": "code",
   "execution_count": 94,
   "metadata": {},
   "outputs": [],
   "source": [
    "import matplotlib.pyplot as plt\n",
    "import seaborn as sns\n",
    "sns.set()\n",
    "\n",
    "%matplotlib inline"
   ]
  },
  {
   "cell_type": "code",
   "execution_count": 95,
   "metadata": {},
   "outputs": [
    {
     "name": "stderr",
     "output_type": "stream",
     "text": [
      "/home/amine/anaconda3/lib/python3.6/site-packages/matplotlib/axes/_axes.py:6462: UserWarning: The 'normed' kwarg is deprecated, and has been replaced by the 'density' kwarg.\n",
      "  warnings.warn(\"The 'normed' kwarg is deprecated, and has been \"\n"
     ]
    },
    {
     "data": {
      "text/plain": [
       "<matplotlib.axes._subplots.AxesSubplot at 0x7f83a5da2d30>"
      ]
     },
     "execution_count": 95,
     "metadata": {},
     "output_type": "execute_result"
    },
    {
     "data": {
      "image/png": "[encoded data removed]",
      "text/plain": [
       "<Figure size 432x288 with 1 Axes>"
      ]
     },
     "metadata": {},
     "output_type": "display_data"
    }
   ],
   "source": [
    "sns.distplot(stations_Interval_Entries_average.INTERVAL_ENTRIES)"
   ]
  },
  {
   "cell_type": "code",
   "execution_count": 96,
   "metadata": {},
   "outputs": [
    {
     "name": "stderr",
     "output_type": "stream",
     "text": [
      "/home/amine/anaconda3/lib/python3.6/site-packages/matplotlib/axes/_axes.py:6462: UserWarning: The 'normed' kwarg is deprecated, and has been replaced by the 'density' kwarg.\n",
      "  warnings.warn(\"The 'normed' kwarg is deprecated, and has been \"\n"
     ]
    },
    {
     "data": {
      "text/plain": [
       "<matplotlib.axes._subplots.AxesSubplot at 0x7f83e2e822e8>"
      ]
     },
     "execution_count": 96,
     "metadata": {},
     "output_type": "execute_result"
    },
    {
     "data": {
      "image/png": "[encoded data removed]",
      "text/plain": [
       "<Figure size 432x288 with 1 Axes>"
      ]
     },
     "metadata": {},
     "output_type": "display_data"
    }
   ],
   "source": [
    "sns.distplot(stations_Interval_Exits_average.INTERVAL_EXITS)"
   ]
  },
  {
   "cell_type": "code",
   "execution_count": 97,
   "metadata": {},
   "outputs": [],
   "source": [
    "# then get top 10 stations for Entries and Exits\n",
    "top10_entries_stations = \\\n",
    "    (stations_Interval_Entries_average\n",
    "                   .sort_values(by='INTERVAL_ENTRIES',ascending=False) \n",
    "                   .STATION.head(10))\n",
    "\n",
    "top10_exits_stations = \\\n",
    "    (stations_Interval_Exits_average\n",
    "                   .sort_values(by='INTERVAL_EXITS',ascending=False) \n",
    "                   .STATION.head(10))"
   ]
  },
  {
   "cell_type": "code",
   "execution_count": 98,
   "metadata": {},
   "outputs": [
    {
     "data": {
      "text/plain": [
       "59      34 ST-PENN STA\n",
       "226    GRD CNTRL-42 ST\n",
       "57     34 ST-HERALD SQ\n",
       "66     42 ST-PORT AUTH\n",
       "106              86 ST\n",
       "44               23 ST\n",
       "9               125 ST\n",
       "210      FLUSHING-MAIN\n",
       "248    JKSN HT-ROOSVLT\n",
       "111              96 ST\n",
       "Name: STATION, dtype: object"
      ]
     },
     "execution_count": 98,
     "metadata": {},
     "output_type": "execute_result"
    }
   ],
   "source": [
    "top10_entries_stations"
   ]
  },
  {
   "cell_type": "code",
   "execution_count": 99,
   "metadata": {},
   "outputs": [
    {
     "data": {
      "text/plain": [
       "59      34 ST-PENN STA\n",
       "57     34 ST-HERALD SQ\n",
       "226    GRD CNTRL-42 ST\n",
       "332     TIMES SQ-42 ST\n",
       "14      14 ST-UNION SQ\n",
       "106              86 ST\n",
       "66     42 ST-PORT AUTH\n",
       "44               23 ST\n",
       "210      FLUSHING-MAIN\n",
       "9               125 ST\n",
       "Name: STATION, dtype: object"
      ]
     },
     "execution_count": 99,
     "metadata": {},
     "output_type": "execute_result"
    }
   ],
   "source": [
    "top10_exits_stations"
   ]
  },
  {
   "cell_type": "code",
   "execution_count": 100,
   "metadata": {},
   "outputs": [],
   "source": [
    "# next create a new df that filters the stations data down\n",
    "# to the top 10 entries stations\n",
    "top10_entries_stations_df = \\\n",
    "    stations_Interval_Entries_average[stations_Interval_Entries_average['STATION'].isin(top10_entries_stations)]\n",
    "# to the top 10 exits stations\n",
    "top10_exits_stations_df = \\\n",
    "    stations_Interval_Exits_average[stations_Interval_Exits_average['STATION'].isin(top10_entries_stations)]"
   ]
  },
  {
   "cell_type": "code",
   "execution_count": 101,
   "metadata": {},
   "outputs": [
    {
     "data": {
      "text/plain": [
       "<matplotlib.axes._subplots.AxesSubplot at 0x7f8389529f98>"
      ]
     },
     "execution_count": 101,
     "metadata": {},
     "output_type": "execute_result"
    },
    {
     "data": {
      "image/png": "[encoded data removed]",
      "text/plain": [
       "<Figure size 432x288 with 1 Axes>"
      ]
     },
     "metadata": {},
     "output_type": "display_data"
    }
   ],
   "source": [
    "# use seaborn to create a boxplot by station\n",
    "sns.boxplot('INTERVAL_ENTRIES', 'STATION', data=top10_entries_stations_df)"
   ]
  },
  {
   "cell_type": "code",
   "execution_count": 102,
   "metadata": {},
   "outputs": [
    {
     "data": {
      "text/plain": [
       "<matplotlib.axes._subplots.AxesSubplot at 0x7f838937aef0>"
      ]
     },
     "execution_count": 102,
     "metadata": {},
     "output_type": "execute_result"
    },
    {
     "data": {
      "image/png": "[encoded data removed]",
      "text/plain": [
       "<Figure size 432x288 with 1 Axes>"
      ]
     },
     "metadata": {},
     "output_type": "display_data"
    }
   ],
   "source": [
    "sns.boxplot('INTERVAL_EXITS', 'STATION', data=top10_exits_stations_df)"
   ]
  },
  {
   "cell_type": "markdown",
   "metadata": {},
   "source": [
    "We have almost the same list of stations\n",
    "\n",
    "we can filter where the SAT school operates"
   ]
  }
 ],
 "metadata": {
  "kernelspec": {
   "display_name": "Python 3",
   "language": "python",
   "name": "python3"
  },
  "language_info": {
   "codemirror_mode": {
    "name": "ipython",
    "version": 3
   },
   "file_extension": ".py",
   "mimetype": "text/x-python",
   "name": "python",
   "nbconvert_exporter": "python",
   "pygments_lexer": "ipython3",
   "version": "3.6.5"
  }
 },
 "nbformat": 4,
 "nbformat_minor": 2
}
