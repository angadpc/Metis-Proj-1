{
 "cells": [
  {
   "cell_type": "markdown",
   "metadata": {},
   "source": [
    "# Project 1 : Title\n",
    "\n",
    "Description of the project"
   ]
  },
  {
   "cell_type": "code",
   "execution_count": 101,
   "metadata": {},
   "outputs": [],
   "source": [
    "#Libraries\n",
    "from __future__ import print_function, division"
   ]
  },
  {
   "cell_type": "code",
   "execution_count": 102,
   "metadata": {},
   "outputs": [],
   "source": [
    "import pandas as pd\n",
    "import numpy as np\n",
    "import matplotlib.pyplot as plt\n",
    "\n",
    "%matplotlib inline"
   ]
  },
  {
   "cell_type": "code",
   "execution_count": 103,
   "metadata": {},
   "outputs": [],
   "source": [
    "import datetime"
   ]
  },
  {
   "cell_type": "markdown",
   "metadata": {},
   "source": [
    "#### Data Download\n",
    "\n",
    "Download and read 3 months of MTA turnstile data files\n"
   ]
  },
  {
   "cell_type": "code",
   "execution_count": 104,
   "metadata": {},
   "outputs": [],
   "source": [
    "# Source: http://web.mta.info/developers/turnstile.html\n",
    "def get_data(week_nums):\n",
    "    url = \"http://web.mta.info/developers/data/nyct/turnstile/turnstile_{}.txt\"\n",
    "    dfs = []\n",
    "    for week_num in week_nums:\n",
    "        file_url = url.format(week_num)\n",
    "        dfs.append(pd.read_csv(file_url))\n",
    "    return pd.concat(dfs)\n",
    "        \n",
    "week_nums = [180505]\n",
    "turnstiles_df = get_data(week_nums)"
   ]
  },
  {
   "cell_type": "code",
   "execution_count": 105,
   "metadata": {},
   "outputs": [
    {
     "data": {
      "text/html": [
       "<div>\n",
       "<style scoped>\n",
       "    .dataframe tbody tr th:only-of-type {\n",
       "        vertical-align: middle;\n",
       "    }\n",
       "\n",
       "    .dataframe tbody tr th {\n",
       "        vertical-align: top;\n",
       "    }\n",
       "\n",
       "    .dataframe thead th {\n",
       "        text-align: right;\n",
       "    }\n",
       "</style>\n",
       "<table border=\"1\" class=\"dataframe\">\n",
       "  <thead>\n",
       "    <tr style=\"text-align: right;\">\n",
       "      <th></th>\n",
       "      <th>C/A</th>\n",
       "      <th>UNIT</th>\n",
       "      <th>SCP</th>\n",
       "      <th>STATION</th>\n",
       "      <th>LINENAME</th>\n",
       "      <th>DIVISION</th>\n",
       "      <th>DATE</th>\n",
       "      <th>TIME</th>\n",
       "      <th>DESC</th>\n",
       "      <th>ENTRIES</th>\n",
       "      <th>EXITS</th>\n",
       "    </tr>\n",
       "  </thead>\n",
       "  <tbody>\n",
       "    <tr>\n",
       "      <th>0</th>\n",
       "      <td>A002</td>\n",
       "      <td>R051</td>\n",
       "      <td>02-00-00</td>\n",
       "      <td>59 ST</td>\n",
       "      <td>NQR456W</td>\n",
       "      <td>BMT</td>\n",
       "      <td>04/28/2018</td>\n",
       "      <td>00:00:00</td>\n",
       "      <td>REGULAR</td>\n",
       "      <td>6598847</td>\n",
       "      <td>2235829</td>\n",
       "    </tr>\n",
       "    <tr>\n",
       "      <th>1</th>\n",
       "      <td>A002</td>\n",
       "      <td>R051</td>\n",
       "      <td>02-00-00</td>\n",
       "      <td>59 ST</td>\n",
       "      <td>NQR456W</td>\n",
       "      <td>BMT</td>\n",
       "      <td>04/28/2018</td>\n",
       "      <td>04:00:00</td>\n",
       "      <td>REGULAR</td>\n",
       "      <td>6598864</td>\n",
       "      <td>2235830</td>\n",
       "    </tr>\n",
       "    <tr>\n",
       "      <th>2</th>\n",
       "      <td>A002</td>\n",
       "      <td>R051</td>\n",
       "      <td>02-00-00</td>\n",
       "      <td>59 ST</td>\n",
       "      <td>NQR456W</td>\n",
       "      <td>BMT</td>\n",
       "      <td>04/28/2018</td>\n",
       "      <td>08:00:00</td>\n",
       "      <td>REGULAR</td>\n",
       "      <td>6598880</td>\n",
       "      <td>2235863</td>\n",
       "    </tr>\n",
       "    <tr>\n",
       "      <th>3</th>\n",
       "      <td>A002</td>\n",
       "      <td>R051</td>\n",
       "      <td>02-00-00</td>\n",
       "      <td>59 ST</td>\n",
       "      <td>NQR456W</td>\n",
       "      <td>BMT</td>\n",
       "      <td>04/28/2018</td>\n",
       "      <td>12:00:00</td>\n",
       "      <td>REGULAR</td>\n",
       "      <td>6598961</td>\n",
       "      <td>2235955</td>\n",
       "    </tr>\n",
       "    <tr>\n",
       "      <th>4</th>\n",
       "      <td>A002</td>\n",
       "      <td>R051</td>\n",
       "      <td>02-00-00</td>\n",
       "      <td>59 ST</td>\n",
       "      <td>NQR456W</td>\n",
       "      <td>BMT</td>\n",
       "      <td>04/28/2018</td>\n",
       "      <td>16:00:00</td>\n",
       "      <td>REGULAR</td>\n",
       "      <td>6599175</td>\n",
       "      <td>2236015</td>\n",
       "    </tr>\n",
       "  </tbody>\n",
       "</table>\n",
       "</div>"
      ],
      "text/plain": [
       "    C/A  UNIT       SCP STATION LINENAME DIVISION        DATE      TIME  \\\n",
       "0  A002  R051  02-00-00   59 ST  NQR456W      BMT  04/28/2018  00:00:00   \n",
       "1  A002  R051  02-00-00   59 ST  NQR456W      BMT  04/28/2018  04:00:00   \n",
       "2  A002  R051  02-00-00   59 ST  NQR456W      BMT  04/28/2018  08:00:00   \n",
       "3  A002  R051  02-00-00   59 ST  NQR456W      BMT  04/28/2018  12:00:00   \n",
       "4  A002  R051  02-00-00   59 ST  NQR456W      BMT  04/28/2018  16:00:00   \n",
       "\n",
       "      DESC  ENTRIES  \\\n",
       "0  REGULAR  6598847   \n",
       "1  REGULAR  6598864   \n",
       "2  REGULAR  6598880   \n",
       "3  REGULAR  6598961   \n",
       "4  REGULAR  6599175   \n",
       "\n",
       "   EXITS                                                                 \n",
       "0                                            2235829                     \n",
       "1                                            2235830                     \n",
       "2                                            2235863                     \n",
       "3                                            2235955                     \n",
       "4                                            2236015                     "
      ]
     },
     "execution_count": 105,
     "metadata": {},
     "output_type": "execute_result"
    }
   ],
   "source": [
    "turnstiles_df.head()"
   ]
  },
  {
   "cell_type": "code",
   "execution_count": 106,
   "metadata": {},
   "outputs": [
    {
     "data": {
      "text/plain": [
       "Index(['C/A', 'UNIT', 'SCP', 'STATION', 'LINENAME', 'DIVISION', 'DATE', 'TIME',\n",
       "       'DESC', 'ENTRIES',\n",
       "       'EXITS                                                               '],\n",
       "      dtype='object')"
      ]
     },
     "execution_count": 106,
     "metadata": {},
     "output_type": "execute_result"
    }
   ],
   "source": [
    "turnstiles_df.columns"
   ]
  },
  {
   "cell_type": "code",
   "execution_count": 107,
   "metadata": {},
   "outputs": [],
   "source": [
    "#  Deleting spaces from the column lables\n",
    "turnstiles_df.columns = [column.strip() for column in turnstiles_df.columns]"
   ]
  },
  {
   "cell_type": "code",
   "execution_count": 108,
   "metadata": {},
   "outputs": [
    {
     "data": {
      "text/plain": [
       "Index(['C/A', 'UNIT', 'SCP', 'STATION', 'LINENAME', 'DIVISION', 'DATE', 'TIME',\n",
       "       'DESC', 'ENTRIES', 'EXITS'],\n",
       "      dtype='object')"
      ]
     },
     "execution_count": 108,
     "metadata": {},
     "output_type": "execute_result"
    }
   ],
   "source": [
    "turnstiles_df.columns"
   ]
  },
  {
   "cell_type": "code",
   "execution_count": 109,
   "metadata": {},
   "outputs": [
    {
     "data": {
      "text/plain": [
       "04/28/2018    28099\n",
       "04/29/2018    28172\n",
       "04/30/2018    28259\n",
       "05/01/2018    28218\n",
       "05/02/2018    28176\n",
       "05/03/2018    28186\n",
       "05/04/2018    28092\n",
       "Name: DATE, dtype: int64"
      ]
     },
     "execution_count": 109,
     "metadata": {},
     "output_type": "execute_result"
    }
   ],
   "source": [
    "# Three months of Data\n",
    "#This is to make sure we have 3 months worth of data\n",
    "turnstiles_df.DATE.value_counts().sort_index()"
   ]
  },
  {
   "cell_type": "markdown",
   "metadata": {},
   "source": [
    "Let's turn this into a time series. Create a new column that stores the date and time as a single pandas datetime object."
   ]
  },
  {
   "cell_type": "code",
   "execution_count": 110,
   "metadata": {},
   "outputs": [],
   "source": [
    "from datetime import datetime as dt"
   ]
  },
  {
   "cell_type": "code",
   "execution_count": 111,
   "metadata": {},
   "outputs": [],
   "source": [
    "# Take the date and time fields into a single datetime column\n",
    "turnstiles_df[\"DATE_TIME\"] = pd.to_datetime(turnstiles_df.DATE + \" \" + turnstiles_df.TIME, \n",
    "                                            format=\"%m/%d/%Y %H:%M:%S\")"
   ]
  },
  {
   "cell_type": "code",
   "execution_count": 112,
   "metadata": {},
   "outputs": [],
   "source": [
    "turnstiles_df = turnstiles_df.sort_values([\"C/A\", \"UNIT\", \"SCP\", \"STATION\", \"DATE_TIME\"])"
   ]
  },
  {
   "cell_type": "code",
   "execution_count": 113,
   "metadata": {},
   "outputs": [],
   "source": [
    "# Get rid of the duplicate entry\n",
    "turnstiles_df.sort_values([\"C/A\", \"UNIT\", \"SCP\", \"STATION\", \"DATE_TIME\"], \n",
    "                          inplace=True, ascending=False)\n",
    "turnstiles_df.drop_duplicates(subset=[\"C/A\", \"UNIT\", \"SCP\", \"STATION\", \"DATE_TIME\"], inplace=True)"
   ]
  },
  {
   "cell_type": "code",
   "execution_count": 114,
   "metadata": {},
   "outputs": [],
   "source": [
    "# turnstiles_df.DESC.value_counts()"
   ]
  },
  {
   "cell_type": "code",
   "execution_count": 115,
   "metadata": {},
   "outputs": [],
   "source": [
    "# turnstiles_df[turnstiles_df.DESC==\"RECOVR AUD\"]"
   ]
  },
  {
   "cell_type": "code",
   "execution_count": 116,
   "metadata": {},
   "outputs": [],
   "source": [
    "# mask = ((turnstiles_df[\"C/A\"] == \"A022\") & \n",
    "# (turnstiles_df[\"UNIT\"] == \"R022\") & \n",
    "# (turnstiles_df[\"SCP\"] == \"01-00-00\") )\n",
    "# turnstiles_df[mask].head(100)"
   ]
  },
  {
   "cell_type": "code",
   "execution_count": 123,
   "metadata": {},
   "outputs": [],
   "source": [
    "# turnstiles_df['TIME'].value_counts()"
   ]
  },
  {
   "cell_type": "code",
   "execution_count": 127,
   "metadata": {},
   "outputs": [],
   "source": [
    "# Create time indicator : 1 = AM (goint to work) , 2 = PM  (going back home), 0 = out of interest\n",
    "turnstiles_df[\"COMMUTE_INTERVAL\"] = (turnstiles_df[\"DATE_TIME\"]\n",
    "                                                       .transform(lambda t: (t.hour >= 11 and\n",
    "                                                                                 t.hour <= 13)+2*(t.hour >= 19 and t.hour <= 21)))"
   ]
  },
  {
   "cell_type": "code",
   "execution_count": 129,
   "metadata": {},
   "outputs": [],
   "source": [
    "# turnstiles_df"
   ]
  },
  {
   "cell_type": "code",
   "execution_count": null,
   "metadata": {},
   "outputs": [],
   "source": []
  },
  {
   "cell_type": "code",
   "execution_count": 117,
   "metadata": {},
   "outputs": [
    {
     "ename": "KeyboardInterrupt",
     "evalue": "",
     "output_type": "error",
     "traceback": [
      "\u001b[0;31m---------------------------------------------------------------------------\u001b[0m",
      "\u001b[0;31mKeyboardInterrupt\u001b[0m                         Traceback (most recent call last)",
      "\u001b[0;32m<ipython-input-117-860f2e3be71a>\u001b[0m in \u001b[0;36m<module>\u001b[0;34m()\u001b[0m\n\u001b[1;32m      1\u001b[0m turnstiles_df[[\"PREV_DATE_TIME\", \"PREV_ENTRIES\", \"PREV_EXITS\"]] = (turnstiles_df\n\u001b[1;32m      2\u001b[0m                                                        \u001b[0;34m.\u001b[0m\u001b[0mgroupby\u001b[0m\u001b[0;34m(\u001b[0m\u001b[0;34m[\u001b[0m\u001b[0;34m\"C/A\"\u001b[0m\u001b[0;34m,\u001b[0m \u001b[0;34m\"UNIT\"\u001b[0m\u001b[0;34m,\u001b[0m \u001b[0;34m\"SCP\"\u001b[0m\u001b[0;34m,\u001b[0m \u001b[0;34m\"STATION\"\u001b[0m\u001b[0;34m,\u001b[0m\u001b[0;34m\"DATE_TIME\"\u001b[0m\u001b[0;34m]\u001b[0m\u001b[0;34m)\u001b[0m\u001b[0;34m[\u001b[0m\u001b[0;34m\"DATE_TIME\"\u001b[0m\u001b[0;34m,\u001b[0m \u001b[0;34m\"ENTRIES\"\u001b[0m\u001b[0;34m,\u001b[0m \u001b[0;34m\"EXITS\"\u001b[0m\u001b[0;34m]\u001b[0m\u001b[0;34m\u001b[0m\u001b[0m\n\u001b[0;32m----> 3\u001b[0;31m                                                        .transform(lambda grp: grp.shift(1)))\n\u001b[0m",
      "\u001b[0;32m~/anaconda3/lib/python3.6/site-packages/pandas/core/groupby/groupby.py\u001b[0m in \u001b[0;36mtransform\u001b[0;34m(self, func, *args, **kwargs)\u001b[0m\n\u001b[1;32m   4434\u001b[0m                 \u001b[0mresult\u001b[0m \u001b[0;34m=\u001b[0m \u001b[0mgetattr\u001b[0m\u001b[0;34m(\u001b[0m\u001b[0mself\u001b[0m\u001b[0;34m,\u001b[0m \u001b[0mfunc\u001b[0m\u001b[0;34m)\u001b[0m\u001b[0;34m(\u001b[0m\u001b[0;34m*\u001b[0m\u001b[0margs\u001b[0m\u001b[0;34m,\u001b[0m \u001b[0;34m**\u001b[0m\u001b[0mkwargs\u001b[0m\u001b[0;34m)\u001b[0m\u001b[0;34m\u001b[0m\u001b[0m\n\u001b[1;32m   4435\u001b[0m         \u001b[0;32melse\u001b[0m\u001b[0;34m:\u001b[0m\u001b[0;34m\u001b[0m\u001b[0m\n\u001b[0;32m-> 4436\u001b[0;31m             \u001b[0;32mreturn\u001b[0m \u001b[0mself\u001b[0m\u001b[0;34m.\u001b[0m\u001b[0m_transform_general\u001b[0m\u001b[0;34m(\u001b[0m\u001b[0mfunc\u001b[0m\u001b[0;34m,\u001b[0m \u001b[0;34m*\u001b[0m\u001b[0margs\u001b[0m\u001b[0;34m,\u001b[0m \u001b[0;34m**\u001b[0m\u001b[0mkwargs\u001b[0m\u001b[0;34m)\u001b[0m\u001b[0;34m\u001b[0m\u001b[0m\n\u001b[0m\u001b[1;32m   4437\u001b[0m \u001b[0;34m\u001b[0m\u001b[0m\n\u001b[1;32m   4438\u001b[0m         \u001b[0;31m# a reduction transform\u001b[0m\u001b[0;34m\u001b[0m\u001b[0;34m\u001b[0m\u001b[0m\n",
      "\u001b[0;32m~/anaconda3/lib/python3.6/site-packages/pandas/core/groupby/groupby.py\u001b[0m in \u001b[0;36m_transform_general\u001b[0;34m(self, func, *args, **kwargs)\u001b[0m\n\u001b[1;32m   4392\u001b[0m                     \u001b[0;32mraise\u001b[0m \u001b[0mValueError\u001b[0m\u001b[0;34m(\u001b[0m\u001b[0mmsg\u001b[0m\u001b[0;34m)\u001b[0m\u001b[0;34m\u001b[0m\u001b[0m\n\u001b[1;32m   4393\u001b[0m             \u001b[0;32melse\u001b[0m\u001b[0;34m:\u001b[0m\u001b[0;34m\u001b[0m\u001b[0m\n\u001b[0;32m-> 4394\u001b[0;31m                 \u001b[0mres\u001b[0m \u001b[0;34m=\u001b[0m \u001b[0mpath\u001b[0m\u001b[0;34m(\u001b[0m\u001b[0mgroup\u001b[0m\u001b[0;34m)\u001b[0m\u001b[0;34m\u001b[0m\u001b[0m\n\u001b[0m\u001b[1;32m   4395\u001b[0m \u001b[0;34m\u001b[0m\u001b[0m\n\u001b[1;32m   4396\u001b[0m             \u001b[0;32mif\u001b[0m \u001b[0misinstance\u001b[0m\u001b[0;34m(\u001b[0m\u001b[0mres\u001b[0m\u001b[0;34m,\u001b[0m \u001b[0mSeries\u001b[0m\u001b[0;34m)\u001b[0m\u001b[0;34m:\u001b[0m\u001b[0;34m\u001b[0m\u001b[0m\n",
      "\u001b[0;32m~/anaconda3/lib/python3.6/site-packages/pandas/core/groupby/groupby.py\u001b[0m in \u001b[0;36m<lambda>\u001b[0;34m(group)\u001b[0m\n\u001b[1;32m   4475\u001b[0m                 lambda x: getattr(x, func)(*args, **kwargs), axis=self.axis)\n\u001b[1;32m   4476\u001b[0m         \u001b[0;32melse\u001b[0m\u001b[0;34m:\u001b[0m\u001b[0;34m\u001b[0m\u001b[0m\n\u001b[0;32m-> 4477\u001b[0;31m             \u001b[0mfast_path\u001b[0m \u001b[0;34m=\u001b[0m \u001b[0;32mlambda\u001b[0m \u001b[0mgroup\u001b[0m\u001b[0;34m:\u001b[0m \u001b[0mfunc\u001b[0m\u001b[0;34m(\u001b[0m\u001b[0mgroup\u001b[0m\u001b[0;34m,\u001b[0m \u001b[0;34m*\u001b[0m\u001b[0margs\u001b[0m\u001b[0;34m,\u001b[0m \u001b[0;34m**\u001b[0m\u001b[0mkwargs\u001b[0m\u001b[0;34m)\u001b[0m\u001b[0;34m\u001b[0m\u001b[0m\n\u001b[0m\u001b[1;32m   4478\u001b[0m             slow_path = lambda group: group.apply(\n\u001b[1;32m   4479\u001b[0m                 lambda x: func(x, *args, **kwargs), axis=self.axis)\n",
      "\u001b[0;32m<ipython-input-117-860f2e3be71a>\u001b[0m in \u001b[0;36m<lambda>\u001b[0;34m(grp)\u001b[0m\n\u001b[1;32m      1\u001b[0m turnstiles_df[[\"PREV_DATE_TIME\", \"PREV_ENTRIES\", \"PREV_EXITS\"]] = (turnstiles_df\n\u001b[1;32m      2\u001b[0m                                                        \u001b[0;34m.\u001b[0m\u001b[0mgroupby\u001b[0m\u001b[0;34m(\u001b[0m\u001b[0;34m[\u001b[0m\u001b[0;34m\"C/A\"\u001b[0m\u001b[0;34m,\u001b[0m \u001b[0;34m\"UNIT\"\u001b[0m\u001b[0;34m,\u001b[0m \u001b[0;34m\"SCP\"\u001b[0m\u001b[0;34m,\u001b[0m \u001b[0;34m\"STATION\"\u001b[0m\u001b[0;34m,\u001b[0m\u001b[0;34m\"DATE_TIME\"\u001b[0m\u001b[0;34m]\u001b[0m\u001b[0;34m)\u001b[0m\u001b[0;34m[\u001b[0m\u001b[0;34m\"DATE_TIME\"\u001b[0m\u001b[0;34m,\u001b[0m \u001b[0;34m\"ENTRIES\"\u001b[0m\u001b[0;34m,\u001b[0m \u001b[0;34m\"EXITS\"\u001b[0m\u001b[0;34m]\u001b[0m\u001b[0;34m\u001b[0m\u001b[0m\n\u001b[0;32m----> 3\u001b[0;31m                                                        .transform(lambda grp: grp.shift(1)))\n\u001b[0m",
      "\u001b[0;32m~/anaconda3/lib/python3.6/site-packages/pandas/core/frame.py\u001b[0m in \u001b[0;36mshift\u001b[0;34m(self, periods, freq, axis)\u001b[0m\n\u001b[1;32m   3798\u001b[0m     \u001b[0;32mdef\u001b[0m \u001b[0mshift\u001b[0m\u001b[0;34m(\u001b[0m\u001b[0mself\u001b[0m\u001b[0;34m,\u001b[0m \u001b[0mperiods\u001b[0m\u001b[0;34m=\u001b[0m\u001b[0;36m1\u001b[0m\u001b[0;34m,\u001b[0m \u001b[0mfreq\u001b[0m\u001b[0;34m=\u001b[0m\u001b[0;32mNone\u001b[0m\u001b[0;34m,\u001b[0m \u001b[0maxis\u001b[0m\u001b[0;34m=\u001b[0m\u001b[0;36m0\u001b[0m\u001b[0;34m)\u001b[0m\u001b[0;34m:\u001b[0m\u001b[0;34m\u001b[0m\u001b[0m\n\u001b[1;32m   3799\u001b[0m         return super(DataFrame, self).shift(periods=periods, freq=freq,\n\u001b[0;32m-> 3800\u001b[0;31m                                             axis=axis)\n\u001b[0m\u001b[1;32m   3801\u001b[0m \u001b[0;34m\u001b[0m\u001b[0m\n\u001b[1;32m   3802\u001b[0m     def set_index(self, keys, drop=True, append=False, inplace=False,\n",
      "\u001b[0;32m~/anaconda3/lib/python3.6/site-packages/pandas/core/generic.py\u001b[0m in \u001b[0;36mshift\u001b[0;34m(self, periods, freq, axis)\u001b[0m\n\u001b[1;32m   7820\u001b[0m         \u001b[0mblock_axis\u001b[0m \u001b[0;34m=\u001b[0m \u001b[0mself\u001b[0m\u001b[0;34m.\u001b[0m\u001b[0m_get_block_manager_axis\u001b[0m\u001b[0;34m(\u001b[0m\u001b[0maxis\u001b[0m\u001b[0;34m)\u001b[0m\u001b[0;34m\u001b[0m\u001b[0m\n\u001b[1;32m   7821\u001b[0m         \u001b[0;32mif\u001b[0m \u001b[0mfreq\u001b[0m \u001b[0;32mis\u001b[0m \u001b[0;32mNone\u001b[0m\u001b[0;34m:\u001b[0m\u001b[0;34m\u001b[0m\u001b[0m\n\u001b[0;32m-> 7822\u001b[0;31m             \u001b[0mnew_data\u001b[0m \u001b[0;34m=\u001b[0m \u001b[0mself\u001b[0m\u001b[0;34m.\u001b[0m\u001b[0m_data\u001b[0m\u001b[0;34m.\u001b[0m\u001b[0mshift\u001b[0m\u001b[0;34m(\u001b[0m\u001b[0mperiods\u001b[0m\u001b[0;34m=\u001b[0m\u001b[0mperiods\u001b[0m\u001b[0;34m,\u001b[0m \u001b[0maxis\u001b[0m\u001b[0;34m=\u001b[0m\u001b[0mblock_axis\u001b[0m\u001b[0;34m)\u001b[0m\u001b[0;34m\u001b[0m\u001b[0m\n\u001b[0m\u001b[1;32m   7823\u001b[0m         \u001b[0;32melse\u001b[0m\u001b[0;34m:\u001b[0m\u001b[0;34m\u001b[0m\u001b[0m\n\u001b[1;32m   7824\u001b[0m             \u001b[0;32mreturn\u001b[0m \u001b[0mself\u001b[0m\u001b[0;34m.\u001b[0m\u001b[0mtshift\u001b[0m\u001b[0;34m(\u001b[0m\u001b[0mperiods\u001b[0m\u001b[0;34m,\u001b[0m \u001b[0mfreq\u001b[0m\u001b[0;34m)\u001b[0m\u001b[0;34m\u001b[0m\u001b[0m\n",
      "\u001b[0;32m~/anaconda3/lib/python3.6/site-packages/pandas/core/internals.py\u001b[0m in \u001b[0;36mshift\u001b[0;34m(self, **kwargs)\u001b[0m\n\u001b[1;32m   3703\u001b[0m \u001b[0;34m\u001b[0m\u001b[0m\n\u001b[1;32m   3704\u001b[0m     \u001b[0;32mdef\u001b[0m \u001b[0mshift\u001b[0m\u001b[0;34m(\u001b[0m\u001b[0mself\u001b[0m\u001b[0;34m,\u001b[0m \u001b[0;34m**\u001b[0m\u001b[0mkwargs\u001b[0m\u001b[0;34m)\u001b[0m\u001b[0;34m:\u001b[0m\u001b[0;34m\u001b[0m\u001b[0m\n\u001b[0;32m-> 3705\u001b[0;31m         \u001b[0;32mreturn\u001b[0m \u001b[0mself\u001b[0m\u001b[0;34m.\u001b[0m\u001b[0mapply\u001b[0m\u001b[0;34m(\u001b[0m\u001b[0;34m'shift'\u001b[0m\u001b[0;34m,\u001b[0m \u001b[0;34m**\u001b[0m\u001b[0mkwargs\u001b[0m\u001b[0;34m)\u001b[0m\u001b[0;34m\u001b[0m\u001b[0m\n\u001b[0m\u001b[1;32m   3706\u001b[0m \u001b[0;34m\u001b[0m\u001b[0m\n\u001b[1;32m   3707\u001b[0m     \u001b[0;32mdef\u001b[0m \u001b[0mfillna\u001b[0m\u001b[0;34m(\u001b[0m\u001b[0mself\u001b[0m\u001b[0;34m,\u001b[0m \u001b[0;34m**\u001b[0m\u001b[0mkwargs\u001b[0m\u001b[0;34m)\u001b[0m\u001b[0;34m:\u001b[0m\u001b[0;34m\u001b[0m\u001b[0m\n",
      "\u001b[0;32m~/anaconda3/lib/python3.6/site-packages/pandas/core/internals.py\u001b[0m in \u001b[0;36mapply\u001b[0;34m(self, f, axes, filter, do_integrity_check, consolidate, **kwargs)\u001b[0m\n\u001b[1;32m   3579\u001b[0m \u001b[0;34m\u001b[0m\u001b[0m\n\u001b[1;32m   3580\u001b[0m             \u001b[0mkwargs\u001b[0m\u001b[0;34m[\u001b[0m\u001b[0;34m'mgr'\u001b[0m\u001b[0;34m]\u001b[0m \u001b[0;34m=\u001b[0m \u001b[0mself\u001b[0m\u001b[0;34m\u001b[0m\u001b[0m\n\u001b[0;32m-> 3581\u001b[0;31m             \u001b[0mapplied\u001b[0m \u001b[0;34m=\u001b[0m \u001b[0mgetattr\u001b[0m\u001b[0;34m(\u001b[0m\u001b[0mb\u001b[0m\u001b[0;34m,\u001b[0m \u001b[0mf\u001b[0m\u001b[0;34m)\u001b[0m\u001b[0;34m(\u001b[0m\u001b[0;34m**\u001b[0m\u001b[0mkwargs\u001b[0m\u001b[0;34m)\u001b[0m\u001b[0;34m\u001b[0m\u001b[0m\n\u001b[0m\u001b[1;32m   3582\u001b[0m             \u001b[0mresult_blocks\u001b[0m \u001b[0;34m=\u001b[0m \u001b[0m_extend_blocks\u001b[0m\u001b[0;34m(\u001b[0m\u001b[0mapplied\u001b[0m\u001b[0;34m,\u001b[0m \u001b[0mresult_blocks\u001b[0m\u001b[0;34m)\u001b[0m\u001b[0;34m\u001b[0m\u001b[0m\n\u001b[1;32m   3583\u001b[0m \u001b[0;34m\u001b[0m\u001b[0m\n",
      "\u001b[0;32m~/anaconda3/lib/python3.6/site-packages/pandas/core/internals.py\u001b[0m in \u001b[0;36mshift\u001b[0;34m(self, periods, axis, mgr)\u001b[0m\n\u001b[1;32m   1293\u001b[0m         \u001b[0;32mif\u001b[0m \u001b[0mnp\u001b[0m\u001b[0;34m.\u001b[0m\u001b[0mprod\u001b[0m\u001b[0;34m(\u001b[0m\u001b[0mnew_values\u001b[0m\u001b[0;34m.\u001b[0m\u001b[0mshape\u001b[0m\u001b[0;34m)\u001b[0m\u001b[0;34m:\u001b[0m\u001b[0;34m\u001b[0m\u001b[0m\n\u001b[1;32m   1294\u001b[0m             new_values = np.roll(new_values, _ensure_platform_int(periods),\n\u001b[0;32m-> 1295\u001b[0;31m                                  axis=axis)\n\u001b[0m\u001b[1;32m   1296\u001b[0m \u001b[0;34m\u001b[0m\u001b[0m\n\u001b[1;32m   1297\u001b[0m         \u001b[0maxis_indexer\u001b[0m \u001b[0;34m=\u001b[0m \u001b[0;34m[\u001b[0m\u001b[0mslice\u001b[0m\u001b[0;34m(\u001b[0m\u001b[0;32mNone\u001b[0m\u001b[0;34m)\u001b[0m\u001b[0;34m]\u001b[0m \u001b[0;34m*\u001b[0m \u001b[0mself\u001b[0m\u001b[0;34m.\u001b[0m\u001b[0mndim\u001b[0m\u001b[0;34m\u001b[0m\u001b[0m\n",
      "\u001b[0;32m~/anaconda3/lib/python3.6/site-packages/numpy/core/numeric.py\u001b[0m in \u001b[0;36mroll\u001b[0;34m(a, shift, axis)\u001b[0m\n\u001b[1;32m   1390\u001b[0m         \u001b[0mresult\u001b[0m \u001b[0;34m=\u001b[0m \u001b[0mempty_like\u001b[0m\u001b[0;34m(\u001b[0m\u001b[0ma\u001b[0m\u001b[0;34m)\u001b[0m\u001b[0;34m\u001b[0m\u001b[0m\n\u001b[1;32m   1391\u001b[0m         \u001b[0;32mfor\u001b[0m \u001b[0mindices\u001b[0m \u001b[0;32min\u001b[0m \u001b[0mitertools\u001b[0m\u001b[0;34m.\u001b[0m\u001b[0mproduct\u001b[0m\u001b[0;34m(\u001b[0m\u001b[0;34m*\u001b[0m\u001b[0mrolls\u001b[0m\u001b[0;34m)\u001b[0m\u001b[0;34m:\u001b[0m\u001b[0;34m\u001b[0m\u001b[0m\n\u001b[0;32m-> 1392\u001b[0;31m             \u001b[0marr_index\u001b[0m\u001b[0;34m,\u001b[0m \u001b[0mres_index\u001b[0m \u001b[0;34m=\u001b[0m \u001b[0mzip\u001b[0m\u001b[0;34m(\u001b[0m\u001b[0;34m*\u001b[0m\u001b[0mindices\u001b[0m\u001b[0;34m)\u001b[0m\u001b[0;34m\u001b[0m\u001b[0m\n\u001b[0m\u001b[1;32m   1393\u001b[0m             \u001b[0mresult\u001b[0m\u001b[0;34m[\u001b[0m\u001b[0mres_index\u001b[0m\u001b[0;34m]\u001b[0m \u001b[0;34m=\u001b[0m \u001b[0ma\u001b[0m\u001b[0;34m[\u001b[0m\u001b[0marr_index\u001b[0m\u001b[0;34m]\u001b[0m\u001b[0;34m\u001b[0m\u001b[0m\n\u001b[1;32m   1394\u001b[0m \u001b[0;34m\u001b[0m\u001b[0m\n",
      "\u001b[0;31mKeyboardInterrupt\u001b[0m: "
     ]
    }
   ],
   "source": [
    "turnstiles_df[[\"PREV_DATE_TIME\", \"PREV_ENTRIES\", \"PREV_EXITS\"]] = (turnstiles_df\n",
    "                                                       .groupby([\"C/A\", \"UNIT\", \"SCP\", \"STATION\"])[\"DATE_TIME\", \"ENTRIES\", \"EXITS\"]\n",
    "                                                       .transform(lambda grp: grp.shift(1)))"
   ]
  },
  {
   "cell_type": "code",
   "execution_count": null,
   "metadata": {},
   "outputs": [],
   "source": [
    "turnstiles_df.head()"
   ]
  },
  {
   "cell_type": "code",
   "execution_count": 67,
   "metadata": {},
   "outputs": [],
   "source": [
    "# Drop the rows for the earliest date in the df\n",
    "turnstiles_df.dropna(subset=[\"PREV_DATE_TIME\"], axis=0, inplace=True)"
   ]
  },
  {
   "cell_type": "code",
   "execution_count": 68,
   "metadata": {},
   "outputs": [
    {
     "data": {
      "text/html": [
       "<div>\n",
       "<style scoped>\n",
       "    .dataframe tbody tr th:only-of-type {\n",
       "        vertical-align: middle;\n",
       "    }\n",
       "\n",
       "    .dataframe tbody tr th {\n",
       "        vertical-align: top;\n",
       "    }\n",
       "\n",
       "    .dataframe thead th {\n",
       "        text-align: right;\n",
       "    }\n",
       "</style>\n",
       "<table border=\"1\" class=\"dataframe\">\n",
       "  <thead>\n",
       "    <tr style=\"text-align: right;\">\n",
       "      <th></th>\n",
       "      <th>C/A</th>\n",
       "      <th>UNIT</th>\n",
       "      <th>SCP</th>\n",
       "      <th>STATION</th>\n",
       "      <th>LINENAME</th>\n",
       "      <th>DIVISION</th>\n",
       "      <th>DATE</th>\n",
       "      <th>TIME</th>\n",
       "      <th>DESC</th>\n",
       "      <th>ENTRIES</th>\n",
       "      <th>EXITS</th>\n",
       "      <th>DATE_TIME</th>\n",
       "      <th>PREV_DATE_TIME</th>\n",
       "      <th>PREV_ENTRIES</th>\n",
       "      <th>PREV_EXITS</th>\n",
       "    </tr>\n",
       "  </thead>\n",
       "  <tbody>\n",
       "    <tr>\n",
       "      <th>1427</th>\n",
       "      <td>A011</td>\n",
       "      <td>R080</td>\n",
       "      <td>01-00-00</td>\n",
       "      <td>57 ST-7 AV</td>\n",
       "      <td>NQRW</td>\n",
       "      <td>BMT</td>\n",
       "      <td>04/28/2018</td>\n",
       "      <td>04:00:00</td>\n",
       "      <td>REGULAR</td>\n",
       "      <td>885937065</td>\n",
       "      <td>491512363</td>\n",
       "      <td>2018-04-28 04:00:00</td>\n",
       "      <td>2018-04-28 00:00:00</td>\n",
       "      <td>885937252.0</td>\n",
       "      <td>491512391.0</td>\n",
       "    </tr>\n",
       "    <tr>\n",
       "      <th>1428</th>\n",
       "      <td>A011</td>\n",
       "      <td>R080</td>\n",
       "      <td>01-00-00</td>\n",
       "      <td>57 ST-7 AV</td>\n",
       "      <td>NQRW</td>\n",
       "      <td>BMT</td>\n",
       "      <td>04/28/2018</td>\n",
       "      <td>08:00:00</td>\n",
       "      <td>REGULAR</td>\n",
       "      <td>885936996</td>\n",
       "      <td>491512132</td>\n",
       "      <td>2018-04-28 08:00:00</td>\n",
       "      <td>2018-04-28 04:00:00</td>\n",
       "      <td>885937065.0</td>\n",
       "      <td>491512363.0</td>\n",
       "    </tr>\n",
       "    <tr>\n",
       "      <th>1429</th>\n",
       "      <td>A011</td>\n",
       "      <td>R080</td>\n",
       "      <td>01-00-00</td>\n",
       "      <td>57 ST-7 AV</td>\n",
       "      <td>NQRW</td>\n",
       "      <td>BMT</td>\n",
       "      <td>04/28/2018</td>\n",
       "      <td>12:00:00</td>\n",
       "      <td>REGULAR</td>\n",
       "      <td>885936550</td>\n",
       "      <td>491511488</td>\n",
       "      <td>2018-04-28 12:00:00</td>\n",
       "      <td>2018-04-28 08:00:00</td>\n",
       "      <td>885936996.0</td>\n",
       "      <td>491512132.0</td>\n",
       "    </tr>\n",
       "    <tr>\n",
       "      <th>1430</th>\n",
       "      <td>A011</td>\n",
       "      <td>R080</td>\n",
       "      <td>01-00-00</td>\n",
       "      <td>57 ST-7 AV</td>\n",
       "      <td>NQRW</td>\n",
       "      <td>BMT</td>\n",
       "      <td>04/28/2018</td>\n",
       "      <td>16:00:00</td>\n",
       "      <td>REGULAR</td>\n",
       "      <td>885936043</td>\n",
       "      <td>491510656</td>\n",
       "      <td>2018-04-28 16:00:00</td>\n",
       "      <td>2018-04-28 12:00:00</td>\n",
       "      <td>885936550.0</td>\n",
       "      <td>491511488.0</td>\n",
       "    </tr>\n",
       "    <tr>\n",
       "      <th>1431</th>\n",
       "      <td>A011</td>\n",
       "      <td>R080</td>\n",
       "      <td>01-00-00</td>\n",
       "      <td>57 ST-7 AV</td>\n",
       "      <td>NQRW</td>\n",
       "      <td>BMT</td>\n",
       "      <td>04/28/2018</td>\n",
       "      <td>20:00:00</td>\n",
       "      <td>REGULAR</td>\n",
       "      <td>885935370</td>\n",
       "      <td>491509971</td>\n",
       "      <td>2018-04-28 20:00:00</td>\n",
       "      <td>2018-04-28 16:00:00</td>\n",
       "      <td>885936043.0</td>\n",
       "      <td>491510656.0</td>\n",
       "    </tr>\n",
       "  </tbody>\n",
       "</table>\n",
       "</div>"
      ],
      "text/plain": [
       "       C/A  UNIT       SCP     STATION LINENAME DIVISION        DATE  \\\n",
       "1427  A011  R080  01-00-00  57 ST-7 AV     NQRW      BMT  04/28/2018   \n",
       "1428  A011  R080  01-00-00  57 ST-7 AV     NQRW      BMT  04/28/2018   \n",
       "1429  A011  R080  01-00-00  57 ST-7 AV     NQRW      BMT  04/28/2018   \n",
       "1430  A011  R080  01-00-00  57 ST-7 AV     NQRW      BMT  04/28/2018   \n",
       "1431  A011  R080  01-00-00  57 ST-7 AV     NQRW      BMT  04/28/2018   \n",
       "\n",
       "          TIME     DESC    ENTRIES      EXITS           DATE_TIME  \\\n",
       "1427  04:00:00  REGULAR  885937065  491512363 2018-04-28 04:00:00   \n",
       "1428  08:00:00  REGULAR  885936996  491512132 2018-04-28 08:00:00   \n",
       "1429  12:00:00  REGULAR  885936550  491511488 2018-04-28 12:00:00   \n",
       "1430  16:00:00  REGULAR  885936043  491510656 2018-04-28 16:00:00   \n",
       "1431  20:00:00  REGULAR  885935370  491509971 2018-04-28 20:00:00   \n",
       "\n",
       "          PREV_DATE_TIME  PREV_ENTRIES   PREV_EXITS  \n",
       "1427 2018-04-28 00:00:00   885937252.0  491512391.0  \n",
       "1428 2018-04-28 04:00:00   885937065.0  491512363.0  \n",
       "1429 2018-04-28 08:00:00   885936996.0  491512132.0  \n",
       "1430 2018-04-28 12:00:00   885936550.0  491511488.0  \n",
       "1431 2018-04-28 16:00:00   885936043.0  491510656.0  "
      ]
     },
     "execution_count": 68,
     "metadata": {},
     "output_type": "execute_result"
    }
   ],
   "source": [
    "turnstiles_df[turnstiles_df[\"ENTRIES\"] < turnstiles_df[\"PREV_ENTRIES\"]].head()"
   ]
  },
  {
   "cell_type": "code",
   "execution_count": 69,
   "metadata": {},
   "outputs": [
    {
     "data": {
      "text/plain": [
       "C/A    UNIT  SCP       STATION        \n",
       "A011   R080  01-00-00  57 ST-7 AV         42\n",
       "A025   R023  01-03-01  34 ST-HERALD SQ    41\n",
       "             01-03-02  34 ST-HERALD SQ    41\n",
       "A049   R088  02-05-00  CORTLANDT ST       11\n",
       "A066   R118  00-00-00  CANAL ST           41\n",
       "C021   R212  00-00-02  59 ST              41\n",
       "C025   R215  00-03-00  86 ST               1\n",
       "D011   R394  01-06-00  BAY PKWY           39\n",
       "             01-06-01  BAY PKWY           41\n",
       "H003   R163  01-00-02  6 AV               41\n",
       "H023   R236  00-06-00  DEKALB AV          42\n",
       "             00-06-01  DEKALB AV           1\n",
       "J005   R353  00-03-00  LORIMER ST          1\n",
       "J034   R007  00-00-02  104 ST             41\n",
       "JFK02  R535  01-00-03  HOWARD BCH JFK      1\n",
       "K026   R100  00-00-01  METROPOLITAN AV    28\n",
       "N063A  R011  00-00-04  42 ST-PORT AUTH    41\n",
       "             00-00-05  42 ST-PORT AUTH    41\n",
       "             00-00-08  42 ST-PORT AUTH    41\n",
       "N078   R175  01-03-00  14 ST              41\n",
       "N114   R297  01-00-03  FRANKLIN AV         1\n",
       "N137   R354  00-06-01  104 ST             39\n",
       "N203   R195  00-00-01  161/YANKEE STAD    41\n",
       "N305   R017  01-03-04  LEXINGTON AV/53    41\n",
       "N305A  R016  00-00-02  LEXINGTON AV/53     2\n",
       "N327   R254  00-06-01  GRAND-NEWTOWN      40\n",
       "N342   R019  01-03-02  JAMAICA 179 ST     40\n",
       "N506   R022  00-05-04  34 ST-HERALD SQ    41\n",
       "N508   R453  00-00-02  23 ST              41\n",
       "N519A  R461  01-06-00  B'WAY-LAFAYETTE     1\n",
       "                                          ..\n",
       "PTH11  R545  00-00-03  14TH STREET         1\n",
       "             00-04-05  14TH STREET         1\n",
       "PTH17  R541  01-00-07  THIRTY THIRD ST     1\n",
       "PTH18  R549  01-00-02  NEWARK BM BW        1\n",
       "PTH20  R549  03-00-02  NEWARK HM HE        1\n",
       "             03-00-07  NEWARK HM HE        1\n",
       "             03-01-03  NEWARK HM HE        1\n",
       "PTH22  R540  00-01-07  PATH NEW WTC        1\n",
       "R127   R105  00-00-00  14 ST              41\n",
       "R138   R293  00-03-06  34 ST-PENN STA      1\n",
       "R148   R033  01-00-01  TIMES SQ-42 ST     40\n",
       "R151   R033  00-00-07  TIMES SQ-42 ST      1\n",
       "R161B  R452  00-00-03  72 ST              41\n",
       "R210   R044  00-03-04  BROOKLYN BRIDGE     7\n",
       "R227   R131  00-00-00  23 ST              41\n",
       "R241A  R048  00-00-00  GRD CNTRL-42 ST    36\n",
       "R243   R049  00-03-01  51 ST               1\n",
       "R245   R051  00-00-00  59 ST              41\n",
       "R246   R177  00-03-06  68ST-HUNTER CO      1\n",
       "R258   R132  00-00-03  125 ST             41\n",
       "R304   R206  00-00-00  125 ST             41\n",
       "R310   R053  01-00-02  3 AV-149 ST        41\n",
       "R322   R386  00-00-02  174 ST             41\n",
       "R333   R366  00-00-01  225 ST              1\n",
       "R418   R106  00-03-00  CASTLE HILL AV      1\n",
       "R419   R326  00-00-01  ZEREGA AV           1\n",
       "R518   R261  00-00-00  40 ST LOWERY ST     1\n",
       "R622   R123  00-00-00  FRANKLIN AV        41\n",
       "R646   R110  01-00-01  FLATBUSH AV-B.C    40\n",
       "R730   R431  00-00-04  EASTCHSTER/DYRE    40\n",
       "Length: 68, dtype: int64"
      ]
     },
     "execution_count": 69,
     "metadata": {},
     "output_type": "execute_result"
    }
   ],
   "source": [
    "# Let's see how many stations have this problem\n",
    "\n",
    "(turnstiles_df[turnstiles_df[\"ENTRIES\"] < turnstiles_df[\"PREV_ENTRIES\"]]\n",
    "    .groupby([\"C/A\", \"UNIT\", \"SCP\", \"STATION\"])\n",
    "    .size())"
   ]
  },
  {
   "cell_type": "code",
   "execution_count": 75,
   "metadata": {},
   "outputs": [
    {
     "name": "stdout",
     "output_type": "stream",
     "text": [
      "271 8429929.0\n",
      "9 36011.0\n",
      "0 163765.0\n",
      "34 361593.0\n",
      "36 60691.0\n",
      "18 517809.0\n",
      "180 150642.0\n",
      "45 20741.0\n",
      "14 13161.0\n",
      "0 49145.0\n",
      "0 280590.0\n",
      "13 195090.0\n",
      "33 204969.0\n",
      "93 236754.0\n",
      "0 5613779.0\n",
      "216 660060.0\n",
      "700232054 1007667891.0\n",
      "697578979 700234364.0\n",
      "51 2123922.0\n",
      "0 108482.0\n",
      "12 27788544.0\n",
      "184 426248.0\n",
      "34 507322.0\n",
      "152 13433891.0\n"
     ]
    }
   ],
   "source": [
    "def get_hourly_interval_counts(row, max_counter, column):\n",
    "    counter = row[column] - row[\"PREV_\"+column]\n",
    "    if counter < 0:\n",
    "        counter = -counter\n",
    "    if counter > max_counter:\n",
    "        print(row[column], row[\"PREV_\"+column])\n",
    "        return 0\n",
    "    return counter\n",
    "\n",
    "# If counter is > 10k, then the counter might have been reset.  \n",
    "# Just set it to zero as different counters have different cycle limits\n",
    "_ = turnstiles_df.apply(get_hourly_interval_counts, axis=1, max_counter=10000, column = \"EXITS\")"
   ]
  },
  {
   "cell_type": "code",
   "execution_count": 76,
   "metadata": {},
   "outputs": [
    {
     "name": "stdout",
     "output_type": "stream",
     "text": [
      "245 7117903.0\n",
      "655599 1384722.0\n",
      "0 71002.0\n",
      "524305 99587.0\n",
      "35 94876.0\n",
      "137 1787704.0\n",
      "23 12958.0\n",
      "9 89094.0\n",
      "1127 39423.0\n",
      "29 16001.0\n",
      "0 32295.0\n",
      "98 14252.0\n",
      "0 1323882.0\n",
      "0 32316.0\n",
      "45 35157.0\n",
      "65 12185.0\n",
      "19 300930.0\n",
      "0 4533810.0\n",
      "235 1517135.0\n",
      "924928668 1859544808.0\n",
      "387980040 924936230.0\n",
      "168 4767428.0\n",
      "7 119871.0\n",
      "42 12537366.0\n",
      "190 820013.0\n",
      "17 319422.0\n",
      "90 4977483.0\n"
     ]
    }
   ],
   "source": [
    "_ = turnstiles_df.apply(get_hourly_interval_counts, axis=1, max_counter=10000, column = \"ENTRIES\")"
   ]
  },
  {
   "cell_type": "code",
   "execution_count": 77,
   "metadata": {},
   "outputs": [
    {
     "name": "stdout",
     "output_type": "stream",
     "text": [
      "245 7117903.0\n",
      "655599 1384722.0\n",
      "0 71002.0\n",
      "524305 99587.0\n",
      "35 94876.0\n",
      "137 1787704.0\n",
      "23 12958.0\n",
      "9 89094.0\n",
      "1127 39423.0\n",
      "29 16001.0\n",
      "0 32295.0\n",
      "98 14252.0\n",
      "0 1323882.0\n",
      "0 32316.0\n",
      "45 35157.0\n",
      "65 12185.0\n",
      "19 300930.0\n",
      "0 4533810.0\n",
      "235 1517135.0\n",
      "924928668 1859544808.0\n",
      "387980040 924936230.0\n",
      "168 4767428.0\n",
      "7 119871.0\n",
      "42 12537366.0\n",
      "190 820013.0\n",
      "17 319422.0\n",
      "90 4977483.0\n",
      "271 8429929.0\n",
      "9 36011.0\n",
      "0 163765.0\n",
      "34 361593.0\n",
      "36 60691.0\n",
      "18 517809.0\n",
      "180 150642.0\n",
      "45 20741.0\n",
      "14 13161.0\n",
      "0 49145.0\n",
      "0 280590.0\n",
      "13 195090.0\n",
      "33 204969.0\n",
      "93 236754.0\n",
      "0 5613779.0\n",
      "216 660060.0\n",
      "700232054 1007667891.0\n",
      "697578979 700234364.0\n",
      "51 2123922.0\n",
      "0 108482.0\n",
      "12 27788544.0\n",
      "184 426248.0\n",
      "34 507322.0\n",
      "152 13433891.0\n"
     ]
    }
   ],
   "source": [
    "def get_hourly_interval_counts(row, max_counter, column):\n",
    "    counter = row[column] - row[\"PREV_\"+column]\n",
    "    if counter < 0:\n",
    "        # Maybe counter is reversed?\n",
    "        counter = -counter\n",
    "    if counter > max_counter:\n",
    "        # Maybe counter was reset to 0? \n",
    "        print(row[column], row[\"PREV_\"+column])\n",
    "        counter = min(row[column], row[\"PREV_\"+column])\n",
    "    if counter > max_counter:\n",
    "        # Check it again to make sure we're not still giving a counter that's too big\n",
    "        return 0\n",
    "    return counter\n",
    "\n",
    "# If counter is > 10k, then the counter might have been reset.  \n",
    "# Just set it to zero as different counters have different cycle limits\n",
    "turnstiles_df[\"INTERVAL_ENTRIES\"] = turnstiles_df.apply(get_hourly_interval_counts, axis=1, max_counter=10000, column=\"ENTRIES\")\n",
    "turnstiles_df[\"INTERVAL_EXITS\"] = turnstiles_df.apply(get_hourly_interval_counts, axis=1, max_counter=10000, column=\"EXITS\")"
   ]
  },
  {
   "cell_type": "code",
   "execution_count": 78,
   "metadata": {},
   "outputs": [],
   "source": [
    "turnstiles_df[\"COMMUTE_INTERVAL\"] = (turnstiles_df[\"DATE_TIME\"]\n",
    "                                                       .transform(lambda t: (t.hour >= 10 and\n",
    "                                                                                 t.hour <= 14)+2*(t.hour >= 20)))"
   ]
  },
  {
   "cell_type": "code",
   "execution_count": 79,
   "metadata": {},
   "outputs": [
    {
     "data": {
      "text/plain": [
       "3006.0"
      ]
     },
     "execution_count": 79,
     "metadata": {},
     "output_type": "execute_result"
    }
   ],
   "source": [
    "turnstiles_df[turnstiles_df.COMMUTE_INTERVAL==1][\"INTERVAL_ENTRIES\"].max()"
   ]
  },
  {
   "cell_type": "code",
   "execution_count": 81,
   "metadata": {},
   "outputs": [
    {
     "data": {
      "text/plain": [
       "array(['NEWARK HW BMEBE', 'HARRISON', 'JOURNAL SQUARE', 'GROVE STREET',\n",
       "       'EXCHANGE PLACE', 'PAVONIA/NEWPORT', 'CITY / BUS',\n",
       "       'CHRISTOPHER ST', '9TH STREET', '14TH STREET', 'TWENTY THIRD ST',\n",
       "       'THIRTY ST', 'LACKAWANNA', 'THIRTY THIRD ST', 'NEWARK BM BW',\n",
       "       'NEWARK C', 'NEWARK HM HE', 'PATH WTC 2', 'PATH NEW WTC'],\n",
       "      dtype=object)"
      ]
     },
     "execution_count": 81,
     "metadata": {},
     "output_type": "execute_result"
    }
   ],
   "source": [
    "turnstiles_df[turnstiles_df.DIVISION==\"PTH\"][\"STATION\"].unique()"
   ]
  },
  {
   "cell_type": "code",
   "execution_count": 82,
   "metadata": {},
   "outputs": [],
   "source": [
    "# turnstile_df = turnstiles_df.drop(turnstiles_df.STATION.isin[['NEWARK HW BMEBE', 'HARRISON', 'JOURNAL SQUARE', 'GROVE STREET',\n",
    "#        'EXCHANGE PLACE', 'PAVONIA/NEWPORT', 'CITY / BUS',\n",
    "#        'CHRISTOPHER ST', '9TH STREET', '14TH STREET', 'TWENTY THIRD ST',\n",
    "#        'THIRTY ST', 'LACKAWANNA', 'THIRTY THIRD ST', 'NEWARK BM BW',\n",
    "#        'NEWARK C', 'NEWARK HM HE', 'PATH WTC 2', 'PATH NEW WTC']])\n",
    "\n",
    "newList = ['NEWARK HW BMEBE', 'HARRISON', 'JOURNAL SQUARE', 'GROVE STREET', 'EXCHANGE PLACE', 'PAVONIA/NEWPORT', 'CITY / BUS', 'LACKAWANNA', 'NEWARK BM BW',\n",
    "       'NEWARK C', 'NEWARK HM HE']\n",
    "new_turnstile_df = turnstiles_df[~turnstiles_df['STATION'].isin(newList)]"
   ]
  },
  {
   "cell_type": "code",
   "execution_count": 83,
   "metadata": {},
   "outputs": [
    {
     "data": {
      "text/plain": [
       "array(['CHRISTOPHER ST', '9TH STREET', '14TH STREET', 'TWENTY THIRD ST',\n",
       "       'THIRTY ST', 'THIRTY THIRD ST', 'PATH WTC 2', 'PATH NEW WTC'],\n",
       "      dtype=object)"
      ]
     },
     "execution_count": 83,
     "metadata": {},
     "output_type": "execute_result"
    }
   ],
   "source": [
    "new_turnstile_df[new_turnstile_df.DIVISION==\"PTH\"][\"STATION\"].unique()"
   ]
  },
  {
   "cell_type": "code",
   "execution_count": 84,
   "metadata": {},
   "outputs": [
    {
     "data": {
      "text/plain": [
       "3006.0"
      ]
     },
     "execution_count": 84,
     "metadata": {},
     "output_type": "execute_result"
    }
   ],
   "source": [
    "new_turnstile_df[new_turnstile_df.COMMUTE_INTERVAL==1][\"INTERVAL_ENTRIES\"].max()"
   ]
  },
  {
   "cell_type": "code",
   "execution_count": 86,
   "metadata": {},
   "outputs": [],
   "source": [
    "# new_turnstile_df.loc[new_turnstile_df.INTERVAL_ENTRIES==3006]"
   ]
  },
  {
   "cell_type": "code",
   "execution_count": null,
   "metadata": {},
   "outputs": [],
   "source": [
    "# import matplotlib.pyplot as plt\n",
    "# import seaborn as sns\n",
    "# sns.set()\n",
    "\n",
    "# %matplotlib inline"
   ]
  },
  {
   "cell_type": "code",
   "execution_count": 90,
   "metadata": {},
   "outputs": [
    {
     "data": {
      "text/html": [
       "<div>\n",
       "<style scoped>\n",
       "    .dataframe tbody tr th:only-of-type {\n",
       "        vertical-align: middle;\n",
       "    }\n",
       "\n",
       "    .dataframe tbody tr th {\n",
       "        vertical-align: top;\n",
       "    }\n",
       "\n",
       "    .dataframe thead th {\n",
       "        text-align: right;\n",
       "    }\n",
       "</style>\n",
       "<table border=\"1\" class=\"dataframe\">\n",
       "  <thead>\n",
       "    <tr style=\"text-align: right;\">\n",
       "      <th></th>\n",
       "      <th>INTERVAL_ENTRIES</th>\n",
       "    </tr>\n",
       "  </thead>\n",
       "  <tbody>\n",
       "    <tr>\n",
       "      <th>count</th>\n",
       "      <td>363.000000</td>\n",
       "    </tr>\n",
       "    <tr>\n",
       "      <th>mean</th>\n",
       "      <td>248.374014</td>\n",
       "    </tr>\n",
       "    <tr>\n",
       "      <th>std</th>\n",
       "      <td>166.118080</td>\n",
       "    </tr>\n",
       "    <tr>\n",
       "      <th>min</th>\n",
       "      <td>2.971429</td>\n",
       "    </tr>\n",
       "    <tr>\n",
       "      <th>25%</th>\n",
       "      <td>134.684848</td>\n",
       "    </tr>\n",
       "    <tr>\n",
       "      <th>50%</th>\n",
       "      <td>207.220077</td>\n",
       "    </tr>\n",
       "    <tr>\n",
       "      <th>75%</th>\n",
       "      <td>345.320489</td>\n",
       "    </tr>\n",
       "    <tr>\n",
       "      <th>max</th>\n",
       "      <td>1485.821429</td>\n",
       "    </tr>\n",
       "  </tbody>\n",
       "</table>\n",
       "</div>"
      ],
      "text/plain": [
       "       INTERVAL_ENTRIES\n",
       "count        363.000000\n",
       "mean         248.374014\n",
       "std          166.118080\n",
       "min            2.971429\n",
       "25%          134.684848\n",
       "50%          207.220077\n",
       "75%          345.320489\n",
       "max         1485.821429"
      ]
     },
     "execution_count": 90,
     "metadata": {},
     "output_type": "execute_result"
    }
   ],
   "source": [
    "# first get entries and exits by station\n",
    "stations_Interval_Entries = \\\n",
    "(new_turnstile_df[new_turnstile_df[\"COMMUTE_INTERVAL\"] == 1].groupby(['STATION'])['INTERVAL_ENTRIES'].mean()\n",
    "                 .reset_index()).sort_values(by=\"INTERVAL_ENTRIES\", ascending=False)  \n",
    "\n",
    "stations_Interval_Exits = \\\n",
    "(new_turnstile_df[new_turnstile_df[\"COMMUTE_INTERVAL\"] == 2].groupby(['STATION'])['INTERVAL_EXITS'].mean()\n",
    "                 .reset_index()).sort_values(by=\"INTERVAL_EXITS\", ascending=False) \n",
    "\n",
    "\n",
    "stations_Interval_Entries.describe()"
   ]
  },
  {
   "cell_type": "code",
   "execution_count": 91,
   "metadata": {},
   "outputs": [
    {
     "data": {
      "text/html": [
       "<div>\n",
       "<style scoped>\n",
       "    .dataframe tbody tr th:only-of-type {\n",
       "        vertical-align: middle;\n",
       "    }\n",
       "\n",
       "    .dataframe tbody tr th {\n",
       "        vertical-align: top;\n",
       "    }\n",
       "\n",
       "    .dataframe thead th {\n",
       "        text-align: right;\n",
       "    }\n",
       "</style>\n",
       "<table border=\"1\" class=\"dataframe\">\n",
       "  <thead>\n",
       "    <tr style=\"text-align: right;\">\n",
       "      <th></th>\n",
       "      <th>STATION</th>\n",
       "      <th>INTERVAL_ENTRIES</th>\n",
       "    </tr>\n",
       "  </thead>\n",
       "  <tbody>\n",
       "    <tr>\n",
       "      <th>121</th>\n",
       "      <td>ASTORIA DITMARS</td>\n",
       "      <td>1485.821429</td>\n",
       "    </tr>\n",
       "    <tr>\n",
       "      <th>120</th>\n",
       "      <td>ASTORIA BLVD</td>\n",
       "      <td>930.448980</td>\n",
       "    </tr>\n",
       "    <tr>\n",
       "      <th>272</th>\n",
       "      <td>MONTROSE AV</td>\n",
       "      <td>784.571429</td>\n",
       "    </tr>\n",
       "    <tr>\n",
       "      <th>161</th>\n",
       "      <td>BROADWAY</td>\n",
       "      <td>735.937500</td>\n",
       "    </tr>\n",
       "    <tr>\n",
       "      <th>187</th>\n",
       "      <td>CORTELYOU RD</td>\n",
       "      <td>720.761905</td>\n",
       "    </tr>\n",
       "  </tbody>\n",
       "</table>\n",
       "</div>"
      ],
      "text/plain": [
       "             STATION  INTERVAL_ENTRIES\n",
       "121  ASTORIA DITMARS       1485.821429\n",
       "120     ASTORIA BLVD        930.448980\n",
       "272      MONTROSE AV        784.571429\n",
       "161         BROADWAY        735.937500\n",
       "187     CORTELYOU RD        720.761905"
      ]
     },
     "execution_count": 91,
     "metadata": {},
     "output_type": "execute_result"
    }
   ],
   "source": [
    "stations_Interval_Entries.head()"
   ]
  },
  {
   "cell_type": "code",
   "execution_count": 92,
   "metadata": {},
   "outputs": [
    {
     "data": {
      "text/html": [
       "<div>\n",
       "<style scoped>\n",
       "    .dataframe tbody tr th:only-of-type {\n",
       "        vertical-align: middle;\n",
       "    }\n",
       "\n",
       "    .dataframe tbody tr th {\n",
       "        vertical-align: top;\n",
       "    }\n",
       "\n",
       "    .dataframe thead th {\n",
       "        text-align: right;\n",
       "    }\n",
       "</style>\n",
       "<table border=\"1\" class=\"dataframe\">\n",
       "  <thead>\n",
       "    <tr style=\"text-align: right;\">\n",
       "      <th></th>\n",
       "      <th>INTERVAL_EXITS</th>\n",
       "    </tr>\n",
       "  </thead>\n",
       "  <tbody>\n",
       "    <tr>\n",
       "      <th>count</th>\n",
       "      <td>363.000000</td>\n",
       "    </tr>\n",
       "    <tr>\n",
       "      <th>mean</th>\n",
       "      <td>230.672886</td>\n",
       "    </tr>\n",
       "    <tr>\n",
       "      <th>std</th>\n",
       "      <td>155.541882</td>\n",
       "    </tr>\n",
       "    <tr>\n",
       "      <th>min</th>\n",
       "      <td>0.000000</td>\n",
       "    </tr>\n",
       "    <tr>\n",
       "      <th>25%</th>\n",
       "      <td>118.292857</td>\n",
       "    </tr>\n",
       "    <tr>\n",
       "      <th>50%</th>\n",
       "      <td>196.142857</td>\n",
       "    </tr>\n",
       "    <tr>\n",
       "      <th>75%</th>\n",
       "      <td>304.785714</td>\n",
       "    </tr>\n",
       "    <tr>\n",
       "      <th>max</th>\n",
       "      <td>939.670330</td>\n",
       "    </tr>\n",
       "  </tbody>\n",
       "</table>\n",
       "</div>"
      ],
      "text/plain": [
       "       INTERVAL_EXITS\n",
       "count      363.000000\n",
       "mean       230.672886\n",
       "std        155.541882\n",
       "min          0.000000\n",
       "25%        118.292857\n",
       "50%        196.142857\n",
       "75%        304.785714\n",
       "max        939.670330"
      ]
     },
     "execution_count": 92,
     "metadata": {},
     "output_type": "execute_result"
    }
   ],
   "source": [
    "stations_Interval_Exits.describe()"
   ]
  },
  {
   "cell_type": "code",
   "execution_count": 93,
   "metadata": {},
   "outputs": [
    {
     "data": {
      "text/html": [
       "<div>\n",
       "<style scoped>\n",
       "    .dataframe tbody tr th:only-of-type {\n",
       "        vertical-align: middle;\n",
       "    }\n",
       "\n",
       "    .dataframe tbody tr th {\n",
       "        vertical-align: top;\n",
       "    }\n",
       "\n",
       "    .dataframe thead th {\n",
       "        text-align: right;\n",
       "    }\n",
       "</style>\n",
       "<table border=\"1\" class=\"dataframe\">\n",
       "  <thead>\n",
       "    <tr style=\"text-align: right;\">\n",
       "      <th></th>\n",
       "      <th>STATION</th>\n",
       "      <th>INTERVAL_EXITS</th>\n",
       "    </tr>\n",
       "  </thead>\n",
       "  <tbody>\n",
       "    <tr>\n",
       "      <th>146</th>\n",
       "      <td>BEDFORD AV</td>\n",
       "      <td>939.670330</td>\n",
       "    </tr>\n",
       "    <tr>\n",
       "      <th>121</th>\n",
       "      <td>ASTORIA DITMARS</td>\n",
       "      <td>833.892857</td>\n",
       "    </tr>\n",
       "    <tr>\n",
       "      <th>120</th>\n",
       "      <td>ASTORIA BLVD</td>\n",
       "      <td>742.877551</td>\n",
       "    </tr>\n",
       "    <tr>\n",
       "      <th>290</th>\n",
       "      <td>NEWKIRK PLAZA</td>\n",
       "      <td>718.057143</td>\n",
       "    </tr>\n",
       "    <tr>\n",
       "      <th>0</th>\n",
       "      <td>1 AV</td>\n",
       "      <td>669.685714</td>\n",
       "    </tr>\n",
       "  </tbody>\n",
       "</table>\n",
       "</div>"
      ],
      "text/plain": [
       "             STATION  INTERVAL_EXITS\n",
       "146       BEDFORD AV      939.670330\n",
       "121  ASTORIA DITMARS      833.892857\n",
       "120     ASTORIA BLVD      742.877551\n",
       "290    NEWKIRK PLAZA      718.057143\n",
       "0               1 AV      669.685714"
      ]
     },
     "execution_count": 93,
     "metadata": {},
     "output_type": "execute_result"
    }
   ],
   "source": [
    "stations_Interval_Exits.head()"
   ]
  },
  {
   "cell_type": "code",
   "execution_count": null,
   "metadata": {},
   "outputs": [],
   "source": [
    "stations_Interval_Entries = \\\n",
    "(new_turnstile_df.groupby(['STATION'])['INTERVAL_ENTRIES'].mean()\n",
    "                 .reset_index()).sort_values(by=\"INTERVAL_ENTRIES\", ascending=False)  \n",
    "\n",
    "stations_Interval_Exits = \\\n",
    "(new_turnstile_df.groupby(['STATION'])['INTERVAL_EXITS'].mean()\n",
    "                 .reset_index()).sort_values(by=\"INTERVAL_EXITS\", ascending=False) "
   ]
  },
  {
   "cell_type": "code",
   "execution_count": null,
   "metadata": {},
   "outputs": [],
   "source": [
    "sns.distplot(new_turnstile_df['INTERVAL_ENTRIES']\n",
    "             [new_turnstile_df['INTERVAL_ENTRIES'] < 10000])\n",
    "\n"
   ]
  },
  {
   "cell_type": "code",
   "execution_count": null,
   "metadata": {},
   "outputs": [],
   "source": [
    "sns.distplot(new_turnstile_df['INTERVAL_EXITS']\n",
    "             [new_turnstile_df['INTERVAL_EXITS'] < 10000])"
   ]
  },
  {
   "cell_type": "code",
   "execution_count": null,
   "metadata": {},
   "outputs": [],
   "source": [
    "# then get top 10 stations by daily volume \n",
    "# (sum across all days is a reasonable way to define this)\n",
    "top10_stations = \\\n",
    "    (stations_daily.groupby(['STATION'])['DAILY_ENTRIES'].sum()\n",
    "                   .reset_index()\n",
    "                   .sort_values(by='DAILY_ENTRIES',ascending=False) \n",
    "                   .STATION.head(10))\n",
    "\n",
    "top10_stations"
   ]
  },
  {
   "cell_type": "code",
   "execution_count": null,
   "metadata": {},
   "outputs": [],
   "source": [
    "# next create a new df that filters the stations daily data down\n",
    "# to the top 10 stations\n",
    "stations_daily_top10 = \\\n",
    "    stations_daily[stations_daily['STATION'].isin(top10_stations)]"
   ]
  },
  {
   "cell_type": "code",
   "execution_count": null,
   "metadata": {},
   "outputs": [],
   "source": [
    "# use seaborn to create a boxplot by station\n",
    "sns.boxplot('DAILY_ENTRIES', 'STATION', data=stations_daily_top10)"
   ]
  }
 ],
 "metadata": {
  "kernelspec": {
   "display_name": "Python 3",
   "language": "python",
   "name": "python3"
  },
  "language_info": {
   "codemirror_mode": {
    "name": "ipython",
    "version": 3
   },
   "file_extension": ".py",
   "mimetype": "text/x-python",
   "name": "python",
   "nbconvert_exporter": "python",
   "pygments_lexer": "ipython3",
   "version": "3.6.5"
  }
 },
 "nbformat": 4,
 "nbformat_minor": 2
}
